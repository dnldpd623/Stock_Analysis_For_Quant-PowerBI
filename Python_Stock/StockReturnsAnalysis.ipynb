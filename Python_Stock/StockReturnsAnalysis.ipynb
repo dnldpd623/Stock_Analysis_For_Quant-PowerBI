{
  "cells": [
    {
      "cell_type": "markdown",
      "source": [
        "# Stock and Benchmark Returns Analysis"
      ],
      "metadata": {}
    },
    {
      "cell_type": "code",
      "source": [
        "import numpy as np\n",
        "import pandas as pd\n",
        "import matplotlib.pyplot as plt\n",
        "\n",
        "import math\n",
        "import scipy.stats as scs\n",
        "from scipy import stats\n",
        "import statsmodels.api as sm\n",
        "\n",
        "import warnings\n",
        "warnings.filterwarnings(\"ignore\")\n",
        "\n",
        "# fix_yahoo_finance is used to fetch data \n",
        "import fix_yahoo_finance as yf\n",
        "yf.pdr_override()"
      ],
      "outputs": [],
      "execution_count": 1,
      "metadata": {
        "collapsed": false,
        "outputHidden": false,
        "inputHidden": false
      }
    },
    {
      "cell_type": "code",
      "source": [
        "# input\n",
        "market = \"SPY\"\n",
        "symbol = 'AAPL'\n",
        "start = '2016-01-01'\n",
        "end = '2019-01-01'\n",
        "\n",
        "# Read data \n",
        "data = yf.download(symbol,start,end)\n",
        "stock_market = yf.download(market, start, end)"
      ],
      "outputs": [
        {
          "output_type": "stream",
          "name": "stdout",
          "text": [
            "[*********************100%***********************]  1 of 1 downloaded\n",
            "[*********************100%***********************]  1 of 1 downloaded\n"
          ]
        }
      ],
      "execution_count": 2,
      "metadata": {
        "collapsed": false,
        "outputHidden": false,
        "inputHidden": false
      }
    },
    {
      "cell_type": "code",
      "source": [
        "from datetime import datetime\n",
        "\n",
        "def days_between(start, end):\n",
        "    start = datetime.strptime(start, \"%Y-%m-%d\")\n",
        "    end = datetime.strptime(end, \"%Y-%m-%d\")\n",
        "    n = abs((end - start).days)\n",
        "    return n\n",
        "\ndays_between(start, end)"
      ],
      "outputs": [
        {
          "output_type": "execute_result",
          "execution_count": 3,
          "data": {
            "text/plain": [
              "1096"
            ]
          },
          "metadata": {}
        }
      ],
      "execution_count": 3,
      "metadata": {
        "collapsed": false,
        "outputHidden": false,
        "inputHidden": false
      }
    },
    {
      "cell_type": "code",
      "source": [
        "start = datetime.strptime(start, \"%Y-%m-%d\")\n",
        "end = datetime.strptime(end, \"%Y-%m-%d\")\n",
        "n = abs((end - start).days)"
      ],
      "outputs": [],
      "execution_count": 4,
      "metadata": {
        "collapsed": false,
        "outputHidden": false,
        "inputHidden": false
      }
    },
    {
      "cell_type": "code",
      "source": [
        "data.head()"
      ],
      "outputs": [
        {
          "output_type": "execute_result",
          "execution_count": 5,
          "data": {
            "text/html": [
              "<div>\n",
              "<style scoped>\n",
              "    .dataframe tbody tr th:only-of-type {\n",
              "        vertical-align: middle;\n",
              "    }\n",
              "\n",
              "    .dataframe tbody tr th {\n",
              "        vertical-align: top;\n",
              "    }\n",
              "\n",
              "    .dataframe thead th {\n",
              "        text-align: right;\n",
              "    }\n",
              "</style>\n",
              "<table border=\"1\" class=\"dataframe\">\n",
              "  <thead>\n",
              "    <tr style=\"text-align: right;\">\n",
              "      <th></th>\n",
              "      <th>Open</th>\n",
              "      <th>High</th>\n",
              "      <th>Low</th>\n",
              "      <th>Close</th>\n",
              "      <th>Adj Close</th>\n",
              "      <th>Volume</th>\n",
              "    </tr>\n",
              "    <tr>\n",
              "      <th>Date</th>\n",
              "      <th></th>\n",
              "      <th></th>\n",
              "      <th></th>\n",
              "      <th></th>\n",
              "      <th></th>\n",
              "      <th></th>\n",
              "    </tr>\n",
              "  </thead>\n",
              "  <tbody>\n",
              "    <tr>\n",
              "      <th>2016-01-04</th>\n",
              "      <td>102.610001</td>\n",
              "      <td>105.370003</td>\n",
              "      <td>102.000000</td>\n",
              "      <td>105.349998</td>\n",
              "      <td>99.499107</td>\n",
              "      <td>67649400</td>\n",
              "    </tr>\n",
              "    <tr>\n",
              "      <th>2016-01-05</th>\n",
              "      <td>105.750000</td>\n",
              "      <td>105.849998</td>\n",
              "      <td>102.410004</td>\n",
              "      <td>102.709999</td>\n",
              "      <td>97.005730</td>\n",
              "      <td>55791000</td>\n",
              "    </tr>\n",
              "    <tr>\n",
              "      <th>2016-01-06</th>\n",
              "      <td>100.559998</td>\n",
              "      <td>102.370003</td>\n",
              "      <td>99.870003</td>\n",
              "      <td>100.699997</td>\n",
              "      <td>95.107361</td>\n",
              "      <td>68457400</td>\n",
              "    </tr>\n",
              "    <tr>\n",
              "      <th>2016-01-07</th>\n",
              "      <td>98.680000</td>\n",
              "      <td>100.129997</td>\n",
              "      <td>96.430000</td>\n",
              "      <td>96.449997</td>\n",
              "      <td>91.093399</td>\n",
              "      <td>81094400</td>\n",
              "    </tr>\n",
              "    <tr>\n",
              "      <th>2016-01-08</th>\n",
              "      <td>98.550003</td>\n",
              "      <td>99.110001</td>\n",
              "      <td>96.760002</td>\n",
              "      <td>96.959999</td>\n",
              "      <td>91.575073</td>\n",
              "      <td>70798000</td>\n",
              "    </tr>\n",
              "  </tbody>\n",
              "</table>\n",
              "</div>"
            ],
            "text/plain": [
              "                  Open        High         Low       Close  Adj Close  \\\n",
              "Date                                                                    \n",
              "2016-01-04  102.610001  105.370003  102.000000  105.349998  99.499107   \n",
              "2016-01-05  105.750000  105.849998  102.410004  102.709999  97.005730   \n",
              "2016-01-06  100.559998  102.370003   99.870003  100.699997  95.107361   \n",
              "2016-01-07   98.680000  100.129997   96.430000   96.449997  91.093399   \n",
              "2016-01-08   98.550003   99.110001   96.760002   96.959999  91.575073   \n",
              "\n",
              "              Volume  \n",
              "Date                  \n",
              "2016-01-04  67649400  \n",
              "2016-01-05  55791000  \n",
              "2016-01-06  68457400  \n",
              "2016-01-07  81094400  \n",
              "2016-01-08  70798000  "
            ]
          },
          "metadata": {}
        }
      ],
      "execution_count": 5,
      "metadata": {
        "collapsed": false,
        "outputHidden": false,
        "inputHidden": false
      }
    },
    {
      "cell_type": "code",
      "source": [
        "stock_market.head()"
      ],
      "outputs": [
        {
          "output_type": "execute_result",
          "execution_count": 6,
          "data": {
            "text/html": [
              "<div>\n",
              "<style scoped>\n",
              "    .dataframe tbody tr th:only-of-type {\n",
              "        vertical-align: middle;\n",
              "    }\n",
              "\n",
              "    .dataframe tbody tr th {\n",
              "        vertical-align: top;\n",
              "    }\n",
              "\n",
              "    .dataframe thead th {\n",
              "        text-align: right;\n",
              "    }\n",
              "</style>\n",
              "<table border=\"1\" class=\"dataframe\">\n",
              "  <thead>\n",
              "    <tr style=\"text-align: right;\">\n",
              "      <th></th>\n",
              "      <th>Open</th>\n",
              "      <th>High</th>\n",
              "      <th>Low</th>\n",
              "      <th>Close</th>\n",
              "      <th>Adj Close</th>\n",
              "      <th>Volume</th>\n",
              "    </tr>\n",
              "    <tr>\n",
              "      <th>Date</th>\n",
              "      <th></th>\n",
              "      <th></th>\n",
              "      <th></th>\n",
              "      <th></th>\n",
              "      <th></th>\n",
              "      <th></th>\n",
              "    </tr>\n",
              "  </thead>\n",
              "  <tbody>\n",
              "    <tr>\n",
              "      <th>2016-01-04</th>\n",
              "      <td>200.490005</td>\n",
              "      <td>201.029999</td>\n",
              "      <td>198.589996</td>\n",
              "      <td>201.020004</td>\n",
              "      <td>189.442627</td>\n",
              "      <td>222353500</td>\n",
              "    </tr>\n",
              "    <tr>\n",
              "      <th>2016-01-05</th>\n",
              "      <td>201.399994</td>\n",
              "      <td>201.899994</td>\n",
              "      <td>200.050003</td>\n",
              "      <td>201.360001</td>\n",
              "      <td>189.763031</td>\n",
              "      <td>110845800</td>\n",
              "    </tr>\n",
              "    <tr>\n",
              "      <th>2016-01-06</th>\n",
              "      <td>198.339996</td>\n",
              "      <td>200.059998</td>\n",
              "      <td>197.600006</td>\n",
              "      <td>198.820007</td>\n",
              "      <td>187.369339</td>\n",
              "      <td>152112600</td>\n",
              "    </tr>\n",
              "    <tr>\n",
              "      <th>2016-01-07</th>\n",
              "      <td>195.330002</td>\n",
              "      <td>197.440002</td>\n",
              "      <td>193.589996</td>\n",
              "      <td>194.050003</td>\n",
              "      <td>182.874039</td>\n",
              "      <td>213436100</td>\n",
              "    </tr>\n",
              "    <tr>\n",
              "      <th>2016-01-08</th>\n",
              "      <td>195.190002</td>\n",
              "      <td>195.850006</td>\n",
              "      <td>191.580002</td>\n",
              "      <td>191.919998</td>\n",
              "      <td>180.866699</td>\n",
              "      <td>209817200</td>\n",
              "    </tr>\n",
              "  </tbody>\n",
              "</table>\n",
              "</div>"
            ],
            "text/plain": [
              "                  Open        High         Low       Close   Adj Close  \\\n",
              "Date                                                                     \n",
              "2016-01-04  200.490005  201.029999  198.589996  201.020004  189.442627   \n",
              "2016-01-05  201.399994  201.899994  200.050003  201.360001  189.763031   \n",
              "2016-01-06  198.339996  200.059998  197.600006  198.820007  187.369339   \n",
              "2016-01-07  195.330002  197.440002  193.589996  194.050003  182.874039   \n",
              "2016-01-08  195.190002  195.850006  191.580002  191.919998  180.866699   \n",
              "\n",
              "               Volume  \n",
              "Date                   \n",
              "2016-01-04  222353500  \n",
              "2016-01-05  110845800  \n",
              "2016-01-06  152112600  \n",
              "2016-01-07  213436100  \n",
              "2016-01-08  209817200  "
            ]
          },
          "metadata": {}
        }
      ],
      "execution_count": 6,
      "metadata": {
        "collapsed": false,
        "outputHidden": false,
        "inputHidden": false
      }
    },
    {
      "cell_type": "code",
      "source": [
        "rf = 0.01"
      ],
      "outputs": [],
      "execution_count": 7,
      "metadata": {
        "collapsed": false,
        "outputHidden": false,
        "inputHidden": false
      }
    },
    {
      "cell_type": "code",
      "source": [
        "close_px = data[ 'Adj Close']\n",
        "returns = close_px.pct_change().dropna()"
      ],
      "outputs": [],
      "execution_count": 8,
      "metadata": {
        "collapsed": false,
        "outputHidden": false,
        "inputHidden": false
      }
    },
    {
      "cell_type": "code",
      "source": [
        "p = np.array(data['Adj Close'])\n",
        "mp = np.array(stock_market['Adj Close']) \n",
        "\n",
        "dollar_vol = np.array(data['Volume']*p)\n",
        "market_dollar_vol = np.array(stock_market['Volume']*mp)"
      ],
      "outputs": [],
      "execution_count": 9,
      "metadata": {
        "collapsed": false,
        "outputHidden": false,
        "inputHidden": false
      }
    },
    {
      "cell_type": "code",
      "source": [
        "benchmark = stock_market['Adj Close'].pct_change().dropna()\n",
        "excess_returns = np.array(returns) - np.array(benchmark)"
      ],
      "outputs": [],
      "execution_count": 10,
      "metadata": {
        "collapsed": false,
        "outputHidden": false,
        "inputHidden": false
      }
    },
    {
      "cell_type": "code",
      "source": [
        "data['returns'] = data[ 'Adj Close'].pct_change().dropna()\n",
        "benchmark['returns'] = stock_market['Adj Close'].pct_change().dropna()"
      ],
      "outputs": [],
      "execution_count": 11,
      "metadata": {
        "collapsed": false,
        "outputHidden": false,
        "inputHidden": false
      }
    },
    {
      "cell_type": "code",
      "source": [
        "data['rea_var'] = 252 * np.cumsum(data['returns']**2) / np.arange(len(data))\n",
        "data['rea_vol'] = np.sqrt(data['rea_var'])"
      ],
      "outputs": [],
      "execution_count": 12,
      "metadata": {
        "collapsed": false,
        "outputHidden": false,
        "inputHidden": false
      }
    },
    {
      "cell_type": "markdown",
      "source": [
        "Alpha is measure of performance on a risk-adjusted basis\n",
        "Alpha also known as \"Jensen index\".\n",
        "\n",
        "Beta is a measure of the volatility, or systematic risk or of a secruity or a portfolio. Beta is used in the capital asset pricing model (CAPM), a model that calculates the expected return of an asset based on its beta and expected market returns.\n",
        "\nR-Squared is a statisitcal measure that represents the percentage of a fund or security's movements that can be explained by movements in a benchmark index (S&P 500)."
      ],
      "metadata": {}
    },
    {
      "cell_type": "code",
      "source": [
        "def adj_close_statistics(close_px):\n",
        "\tsta = scs.describe(close_px)\n",
        "\tprint(\"%14s %15s\" % ('statistic', 'value'))\n",
        "\tprint(30 * \"-\")\n",
        "\tprint(\"%14s %15.5f\" % ('size', sta[0]))\n",
        "\tprint(\"%14s %15.5f\" % ('min', sta[1][0]))\n",
        "\tprint(\"%14s %15.5f\" % ('max', sta[1][1]))\n",
        "\tprint(\"%14s %15.5f\" % ('mean', sta[2]))\n",
        "\tprint(\"%14s %15.5f\" % ('std', np.sqrt(sta[3])))\n",
        "\tprint(\"%14s %15.5f\" % ('skew', sta[4]))\n",
        "\tprint(\"%14s %15.5f\" % ('kurtosis', sta[5]))\n",
        "    \n",
        "adj_close_statistics(close_px)    "
      ],
      "outputs": [
        {
          "output_type": "stream",
          "name": "stdout",
          "text": [
            "     statistic           value\n",
            "------------------------------\n",
            "          size       754.00000\n",
            "           min        86.30801\n",
            "           max       230.27548\n",
            "          mean       144.50000\n",
            "           std        38.76211\n",
            "          skew         0.22706\n",
            "      kurtosis        -0.96764\n"
          ]
        }
      ],
      "execution_count": 13,
      "metadata": {
        "collapsed": false,
        "outputHidden": false,
        "inputHidden": false
      }
    },
    {
      "cell_type": "code",
      "source": [
        "def print_stock_statistics(data):\n",
        "    print(\"RETURN SAMPLE STATISTICS\")\n",
        "    print(\"---------------------------------------------\")\n",
        "    print(\"Mean of Daily  Log Returns %9.6f\" % np.mean(returns))\n",
        "    print(\"Std  of Daily  Log Returns %9.6f\" % np.std(returns))\n",
        "    print(\"Mean of Annua. Log Returns %9.6f\" % (np.mean(returns) * 252))\n",
        "    print(\"Std  of Annua. Log Returns %9.6f\" % (np.std(returns) * math.sqrt(252)))\n",
        "    print(\"---------------------------------------------\")\n",
        "    print(\"Skew of Sample Log Returns %9.6f\" % scs.skew(returns))\n",
        "    print(\"Skew Normal Test p-value   %9.6f\" % scs.skewtest(returns)[1])\n",
        "    print(\"---------------------------------------------\")\n",
        "    print(\"Kurt of Sample Log Returns %9.6f\" % scs.kurtosis(returns))\n",
        "    print(\"Kurt Normal Test p-value   %9.6f\" % \\\n",
        "                scs.kurtosistest(returns)[1])\n",
        "    print(\"---------------------------------------------\")\n",
        "    print(\"Normal Test p-value        %9.6f\" % \\\n",
        "                scs.normaltest(returns)[1])\n",
        "    print(\"---------------------------------------------\")\n",
        "    print(\"Realized Volatility        %9.6f\" % data['rea_vol'].iloc[-1])\n",
        "    print(\"Realized Variance          %9.6f\" % data['rea_var'].iloc[-1])\n",
        "    print(\"---------------------------------------------\")\n",
        "    print(\"Anderson Normality Test:\t\t   \")\n",
        "    print(stats.anderson(returns))\n",
        "    print(\"---------------------------------------------\")\n",
        "    print(\"Shapiro_Wilk Test: \t\t      \t\t\t\")\n",
        "    print(stats.shapiro(returns))\n",
        "    print(\"Sharpe Ratio of Daily Returns:  \t\t\t\")\n",
        "    print(\"{0:.8f}\".format(np.mean(returns) / np.std(returns)))\n",
        "    print(\"Trading Sharpe for Daily:      \t\t\t\")\n",
        "    print(\"{0:.8f}\".format((n*6.5) * (np.mean(returns)-rf // np.std(returns)*np.sqrt(n*6.5))))\n",
        "    print(\"Sharpe of Annua. Returns w/ days:      \t\")\n",
        "    print(\"{0:.8f}\".format((252) * (np.mean(returns)-rf // np.std(returns)*np.sqrt(252))))\n",
        "    print(\"Sharpe of Annua. Returns w/ days & hours:\")\n",
        "    print(\"{0:.8f}\".format((252*6.5) * (np.mean(returns)-rf // np.std(returns)*np.sqrt(252*6.5))))\n",
        "    print(\"---------------------------------------------\")\n",
        "    print(\"Amihud Illiquidity \t\t  %9.6g\" % np.mean(np.divide(abs(returns),dollar_vol[1:])))\n",
        "    print(\"---------------------------------------------\")\n",
        "    print(\"Kelly Formula:\t\t\t       \")\n",
        "    print(\"{0:.8f}\".format(np.mean(returns) - rf // (np.std(returns))**2))\n",
        "    print(\"Compounded Levered Return: \t   \")\n",
        "    print(\"{0:.8f}\".format(rf + (((252) * (np.mean(returns)-rf / np.std(returns)*np.sqrt(252)))**2) // 2))\n",
        "    print(\"Compounded Unlevered Return:    \")\n",
        "    print(\"{0:.8f}\".format(((np.mean(returns))*252)-(((np.std(returns))*np.sqrt(252))**2) // 2))\n",
        "    return\n",
        "\nprint_stock_statistics(data)"
      ],
      "outputs": [
        {
          "output_type": "stream",
          "name": "stdout",
          "text": [
            "RETURN SAMPLE STATISTICS\n",
            "---------------------------------------------\n",
            "Mean of Daily  Log Returns  0.000718\n",
            "Std  of Daily  Log Returns  0.014907\n",
            "Mean of Annua. Log Returns  0.180839\n",
            "Std  of Annua. Log Returns  0.236637\n",
            "---------------------------------------------\n",
            "Skew of Sample Log Returns -0.057077\n",
            "Skew Normal Test p-value    0.518845\n",
            "---------------------------------------------\n",
            "Kurt of Sample Log Returns  3.603214\n",
            "Kurt Normal Test p-value    0.000000\n",
            "---------------------------------------------\n",
            "Normal Test p-value         0.000000\n",
            "---------------------------------------------\n",
            "Realized Volatility         0.236911\n",
            "Realized Variance           0.056127\n",
            "---------------------------------------------\n",
            "Anderson Normality Test:\t\t   \n",
            "AndersonResult(statistic=11.294824368890659, critical_values=array([ 0.573,  0.653,  0.783,  0.913,  1.086]), significance_level=array([ 15. ,  10. ,   5. ,   2.5,   1. ]))\n",
            "---------------------------------------------\n",
            "Shapiro_Wilk Test: \t\t      \t\t\t\n",
            "(0.94234299659729, 1.6330534495733834e-16)\n",
            "Sharpe Ratio of Daily Returns:  \t\t\t\n",
            "0.04814037\n",
            "Trading Sharpe for Daily:      \t\t\t\n",
            "5.11229479\n",
            "Sharpe of Annua. Returns w/ days:      \t\n",
            "0.18083918\n",
            "Sharpe of Annua. Returns w/ days & hours:\n",
            "1.17545464\n",
            "---------------------------------------------\n",
            "Amihud Illiquidity \t\t  2.0581e-12\n",
            "---------------------------------------------\n",
            "Kelly Formula:\t\t\t       \n",
            "-44.99928238\n",
            "Compounded Levered Return: \t   \n",
            "3600377.01000000\n",
            "Compounded Unlevered Return:    \n",
            "0.18083918\n"
          ]
        }
      ],
      "execution_count": 14,
      "metadata": {
        "collapsed": false,
        "outputHidden": false,
        "inputHidden": false
      }
    },
    {
      "cell_type": "code",
      "source": [
        "def print_market_information(benchmark):\n",
        "    print(\"RETURN BENCHMARK STATISTICS\")\n",
        "    print(\"---------------------------------------------\")\n",
        "    print(\"Mean of Daily  Log Returns %9.6f\" % np.mean(benchmark))\n",
        "    print(\"Std  of Daily  Log Returns %9.6f\" % np.std(benchmark))\n",
        "    print(\"Mean of Annua. Log Returns %9.6f\" % (np.mean(benchmark) * 252))\n",
        "    print(\"Std  of Annua. Log Returns %9.6f\" % (np.std(benchmark) * math.sqrt(252)))\n",
        "    print(\"---------------------------------------------\")\n",
        "    print(\"Skew of Sample Log Returns %9.6f\" % scs.skew(benchmark))\n",
        "    print(\"Skew Normal Test p-value   %9.6f\" % scs.skewtest(benchmark)[1])\n",
        "    print(\"---------------------------------------------\")\n",
        "    print(\"Kurt of Sample Log Returns %9.6f\" % scs.kurtosis(benchmark))\n",
        "    print(\"Kurt Normal Test p-value   %9.6f\" % scs.kurtosistest(benchmark)[1])\n",
        "    print(\"---------------------------------------------\")\n",
        "    print(\"Normal Test p-value        %9.6f\" % scs.normaltest(benchmark)[1])\n",
        "    print(\"---------------------------------------------\")\n",
        "    print(\"Anderson Normality Test:\t\t   \")\n",
        "    print(stats.anderson(benchmark))\n",
        "    return\n",
        "\nprint_market_information(benchmark)"
      ],
      "outputs": [
        {
          "output_type": "stream",
          "name": "stdout",
          "text": [
            "RETURN BENCHMARK STATISTICS\n",
            "---------------------------------------------\n"
          ]
        },
        {
          "output_type": "error",
          "ename": "TypeError",
          "evalue": "Could not convert Date\n2016-01-05    0.303967\n2016-01-06    0.289662\n2016-01-07    0.278285\n2016-01-08    0.291300\n2016-01-11    0.303266\n2016-01-12    0.310344\n2016-01-13    0.277336\n2016-01-14    0.318693\n2016-01-15    0.280810\n2016-01-19    0.303607\n2016-01-20    0.289461\n2016-01-21    0.307878\n2016-01-22    0.322792\n2016-01-25    0.287160\n2016-01-26    0.315919\n2016-01-27    0.291393\n2016-01-28    0.307485\n2016-01-29    0.326653\n2016-02-01    0.301915\n2016-02-02    0.284254\n2016-02-03    0.308271\n2016-02-04    0.303844\n2016-02-05    0.283226\n2016-02-08    0.288815\n2016-02-09    0.302330\n2016-02-10    0.301413\n2016-02-11    0.289268\n2016-02-12    0.322893\n2016-02-16    0.319155\n2016-02-17    0.318611\n                ...   \n2018-11-15    0.312713\n2018-11-16    0.304877\n2018-11-19    0.285362\n2018-11-20    0.283770\n2018-11-21    0.305684\n2018-11-23    0.295598\n2018-11-26    0.318420\n2018-11-27    0.305641\n2018-11-28    0.325301\n2018-11-29    0.300091\n2018-11-30    0.308372\n2018-12-03    0.315518\n2018-12-04    0.269874\n2018-12-06    0.300759\n2018-12-07    0.279040\n2018-12-10    0.304173\n2018-12-11    0.302503\n2018-12-12    0.307312\n2018-12-13    0.301937\n2018-12-14    0.283812\n2018-12-17    0.282658\n2018-12-18    0.301180\n2018-12-19    0.287300\n2018-12-20    0.285998\n2018-12-21    0.281787\n2018-12-24    0.275853\n2018-12-26    0.352801\n2018-12-27    0.309954\n2018-12-28    0.300986\n2018-12-31    0.311035\nName: Adj Close, Length: 753, dtype: float64 to numeric",
          "traceback": [
            "\u001b[1;31m---------------------------------------------------------------------------\u001b[0m",
            "\u001b[1;31mTypeError\u001b[0m                                 Traceback (most recent call last)",
            "\u001b[1;32m~\\Anaconda3\\envs\\py35\\lib\\site-packages\\pandas\\core\\nanops.py\u001b[0m in \u001b[0;36m_ensure_numeric\u001b[1;34m(x)\u001b[0m\n\u001b[0;32m    821\u001b[0m         \u001b[1;32mtry\u001b[0m\u001b[1;33m:\u001b[0m\u001b[1;33m\u001b[0m\u001b[0m\n\u001b[1;32m--> 822\u001b[1;33m             \u001b[0mx\u001b[0m \u001b[1;33m=\u001b[0m \u001b[0mfloat\u001b[0m\u001b[1;33m(\u001b[0m\u001b[0mx\u001b[0m\u001b[1;33m)\u001b[0m\u001b[1;33m\u001b[0m\u001b[0m\n\u001b[0m\u001b[0;32m    823\u001b[0m         \u001b[1;32mexcept\u001b[0m \u001b[0mException\u001b[0m\u001b[1;33m:\u001b[0m\u001b[1;33m\u001b[0m\u001b[0m\n",
            "\u001b[1;32m~\\Anaconda3\\envs\\py35\\lib\\site-packages\\pandas\\core\\series.py\u001b[0m in \u001b[0;36mwrapper\u001b[1;34m(self)\u001b[0m\n\u001b[0;32m    117\u001b[0m         raise TypeError(\"cannot convert the series to \"\n\u001b[1;32m--> 118\u001b[1;33m                         \"{0}\".format(str(converter)))\n\u001b[0m\u001b[0;32m    119\u001b[0m \u001b[1;33m\u001b[0m\u001b[0m\n",
            "\u001b[1;31mTypeError\u001b[0m: cannot convert the series to <class 'float'>",
            "\nDuring handling of the above exception, another exception occurred:\n",
            "\u001b[1;31mTypeError\u001b[0m                                 Traceback (most recent call last)",
            "\u001b[1;32m~\\Anaconda3\\envs\\py35\\lib\\site-packages\\pandas\\core\\nanops.py\u001b[0m in \u001b[0;36m_ensure_numeric\u001b[1;34m(x)\u001b[0m\n\u001b[0;32m    824\u001b[0m             \u001b[1;32mtry\u001b[0m\u001b[1;33m:\u001b[0m\u001b[1;33m\u001b[0m\u001b[0m\n\u001b[1;32m--> 825\u001b[1;33m                 \u001b[0mx\u001b[0m \u001b[1;33m=\u001b[0m \u001b[0mcomplex\u001b[0m\u001b[1;33m(\u001b[0m\u001b[0mx\u001b[0m\u001b[1;33m)\u001b[0m\u001b[1;33m\u001b[0m\u001b[0m\n\u001b[0m\u001b[0;32m    826\u001b[0m             \u001b[1;32mexcept\u001b[0m \u001b[0mException\u001b[0m\u001b[1;33m:\u001b[0m\u001b[1;33m\u001b[0m\u001b[0m\n",
            "\u001b[1;32m~\\Anaconda3\\envs\\py35\\lib\\site-packages\\pandas\\core\\series.py\u001b[0m in \u001b[0;36mwrapper\u001b[1;34m(self)\u001b[0m\n\u001b[0;32m    117\u001b[0m         raise TypeError(\"cannot convert the series to \"\n\u001b[1;32m--> 118\u001b[1;33m                         \"{0}\".format(str(converter)))\n\u001b[0m\u001b[0;32m    119\u001b[0m \u001b[1;33m\u001b[0m\u001b[0m\n",
            "\u001b[1;31mTypeError\u001b[0m: cannot convert the series to <class 'float'>",
            "\nDuring handling of the above exception, another exception occurred:\n",
            "\u001b[1;31mTypeError\u001b[0m                                 Traceback (most recent call last)",
            "\u001b[1;32m~\\Anaconda3\\envs\\py35\\lib\\site-packages\\pandas\\core\\nanops.py\u001b[0m in \u001b[0;36mf\u001b[1;34m(values, axis, skipna, **kwds)\u001b[0m\n\u001b[0;32m    127\u001b[0m                 \u001b[1;32melse\u001b[0m\u001b[1;33m:\u001b[0m\u001b[1;33m\u001b[0m\u001b[0m\n\u001b[1;32m--> 128\u001b[1;33m                     \u001b[0mresult\u001b[0m \u001b[1;33m=\u001b[0m \u001b[0malt\u001b[0m\u001b[1;33m(\u001b[0m\u001b[0mvalues\u001b[0m\u001b[1;33m,\u001b[0m \u001b[0maxis\u001b[0m\u001b[1;33m=\u001b[0m\u001b[0maxis\u001b[0m\u001b[1;33m,\u001b[0m \u001b[0mskipna\u001b[0m\u001b[1;33m=\u001b[0m\u001b[0mskipna\u001b[0m\u001b[1;33m,\u001b[0m \u001b[1;33m**\u001b[0m\u001b[0mkwds\u001b[0m\u001b[1;33m)\u001b[0m\u001b[1;33m\u001b[0m\u001b[0m\n\u001b[0m\u001b[0;32m    129\u001b[0m             \u001b[1;32mexcept\u001b[0m \u001b[0mException\u001b[0m\u001b[1;33m:\u001b[0m\u001b[1;33m\u001b[0m\u001b[0m\n",
            "\u001b[1;32m~\\Anaconda3\\envs\\py35\\lib\\site-packages\\pandas\\core\\nanops.py\u001b[0m in \u001b[0;36mnanmean\u001b[1;34m(values, axis, skipna)\u001b[0m\n\u001b[0;32m    354\u001b[0m     \u001b[0mcount\u001b[0m \u001b[1;33m=\u001b[0m \u001b[0m_get_counts\u001b[0m\u001b[1;33m(\u001b[0m\u001b[0mmask\u001b[0m\u001b[1;33m,\u001b[0m \u001b[0maxis\u001b[0m\u001b[1;33m,\u001b[0m \u001b[0mdtype\u001b[0m\u001b[1;33m=\u001b[0m\u001b[0mdtype_count\u001b[0m\u001b[1;33m)\u001b[0m\u001b[1;33m\u001b[0m\u001b[0m\n\u001b[1;32m--> 355\u001b[1;33m     \u001b[0mthe_sum\u001b[0m \u001b[1;33m=\u001b[0m \u001b[0m_ensure_numeric\u001b[0m\u001b[1;33m(\u001b[0m\u001b[0mvalues\u001b[0m\u001b[1;33m.\u001b[0m\u001b[0msum\u001b[0m\u001b[1;33m(\u001b[0m\u001b[0maxis\u001b[0m\u001b[1;33m,\u001b[0m \u001b[0mdtype\u001b[0m\u001b[1;33m=\u001b[0m\u001b[0mdtype_sum\u001b[0m\u001b[1;33m)\u001b[0m\u001b[1;33m)\u001b[0m\u001b[1;33m\u001b[0m\u001b[0m\n\u001b[0m\u001b[0;32m    356\u001b[0m \u001b[1;33m\u001b[0m\u001b[0m\n",
            "\u001b[1;32m~\\Anaconda3\\envs\\py35\\lib\\site-packages\\pandas\\core\\nanops.py\u001b[0m in \u001b[0;36m_ensure_numeric\u001b[1;34m(x)\u001b[0m\n\u001b[0;32m    827\u001b[0m                 raise TypeError('Could not convert {value!s} to numeric'\n\u001b[1;32m--> 828\u001b[1;33m                                 .format(value=x))\n\u001b[0m\u001b[0;32m    829\u001b[0m     \u001b[1;32mreturn\u001b[0m \u001b[0mx\u001b[0m\u001b[1;33m\u001b[0m\u001b[0m\n",
            "\u001b[1;31mTypeError\u001b[0m: Could not convert Date\n2016-01-05    0.303967\n2016-01-06    0.289662\n2016-01-07    0.278285\n2016-01-08    0.291300\n2016-01-11    0.303266\n2016-01-12    0.310344\n2016-01-13    0.277336\n2016-01-14    0.318693\n2016-01-15    0.280810\n2016-01-19    0.303607\n2016-01-20    0.289461\n2016-01-21    0.307878\n2016-01-22    0.322792\n2016-01-25    0.287160\n2016-01-26    0.315919\n2016-01-27    0.291393\n2016-01-28    0.307485\n2016-01-29    0.326653\n2016-02-01    0.301915\n2016-02-02    0.284254\n2016-02-03    0.308271\n2016-02-04    0.303844\n2016-02-05    0.283226\n2016-02-08    0.288815\n2016-02-09    0.302330\n2016-02-10    0.301413\n2016-02-11    0.289268\n2016-02-12    0.322893\n2016-02-16    0.319155\n2016-02-17    0.318611\n                ...   \n2018-11-15    0.312713\n2018-11-16    0.304877\n2018-11-19    0.285362\n2018-11-20    0.283770\n2018-11-21    0.305684\n2018-11-23    0.295598\n2018-11-26    0.318420\n2018-11-27    0.305641\n2018-11-28    0.325301\n2018-11-29    0.300091\n2018-11-30    0.308372\n2018-12-03    0.315518\n2018-12-04    0.269874\n2018-12-06    0.300759\n2018-12-07    0.279040\n2018-12-10    0.304173\n2018-12-11    0.302503\n2018-12-12    0.307312\n2018-12-13    0.301937\n2018-12-14    0.283812\n2018-12-17    0.282658\n2018-12-18    0.301180\n2018-12-19    0.287300\n2018-12-20    0.285998\n2018-12-21    0.281787\n2018-12-24    0.275853\n2018-12-26    0.352801\n2018-12-27    0.309954\n2018-12-28    0.300986\n2018-12-31    0.311035\nName: Adj Close, Length: 753, dtype: float64 to numeric",
            "\nDuring handling of the above exception, another exception occurred:\n",
            "\u001b[1;31mTypeError\u001b[0m                                 Traceback (most recent call last)",
            "\u001b[1;32m~\\Anaconda3\\envs\\py35\\lib\\site-packages\\pandas\\core\\nanops.py\u001b[0m in \u001b[0;36m_ensure_numeric\u001b[1;34m(x)\u001b[0m\n\u001b[0;32m    821\u001b[0m         \u001b[1;32mtry\u001b[0m\u001b[1;33m:\u001b[0m\u001b[1;33m\u001b[0m\u001b[0m\n\u001b[1;32m--> 822\u001b[1;33m             \u001b[0mx\u001b[0m \u001b[1;33m=\u001b[0m \u001b[0mfloat\u001b[0m\u001b[1;33m(\u001b[0m\u001b[0mx\u001b[0m\u001b[1;33m)\u001b[0m\u001b[1;33m\u001b[0m\u001b[0m\n\u001b[0m\u001b[0;32m    823\u001b[0m         \u001b[1;32mexcept\u001b[0m \u001b[0mException\u001b[0m\u001b[1;33m:\u001b[0m\u001b[1;33m\u001b[0m\u001b[0m\n",
            "\u001b[1;32m~\\Anaconda3\\envs\\py35\\lib\\site-packages\\pandas\\core\\series.py\u001b[0m in \u001b[0;36mwrapper\u001b[1;34m(self)\u001b[0m\n\u001b[0;32m    117\u001b[0m         raise TypeError(\"cannot convert the series to \"\n\u001b[1;32m--> 118\u001b[1;33m                         \"{0}\".format(str(converter)))\n\u001b[0m\u001b[0;32m    119\u001b[0m \u001b[1;33m\u001b[0m\u001b[0m\n",
            "\u001b[1;31mTypeError\u001b[0m: cannot convert the series to <class 'float'>",
            "\nDuring handling of the above exception, another exception occurred:\n",
            "\u001b[1;31mTypeError\u001b[0m                                 Traceback (most recent call last)",
            "\u001b[1;32m~\\Anaconda3\\envs\\py35\\lib\\site-packages\\pandas\\core\\nanops.py\u001b[0m in \u001b[0;36m_ensure_numeric\u001b[1;34m(x)\u001b[0m\n\u001b[0;32m    824\u001b[0m             \u001b[1;32mtry\u001b[0m\u001b[1;33m:\u001b[0m\u001b[1;33m\u001b[0m\u001b[0m\n\u001b[1;32m--> 825\u001b[1;33m                 \u001b[0mx\u001b[0m \u001b[1;33m=\u001b[0m \u001b[0mcomplex\u001b[0m\u001b[1;33m(\u001b[0m\u001b[0mx\u001b[0m\u001b[1;33m)\u001b[0m\u001b[1;33m\u001b[0m\u001b[0m\n\u001b[0m\u001b[0;32m    826\u001b[0m             \u001b[1;32mexcept\u001b[0m \u001b[0mException\u001b[0m\u001b[1;33m:\u001b[0m\u001b[1;33m\u001b[0m\u001b[0m\n",
            "\u001b[1;32m~\\Anaconda3\\envs\\py35\\lib\\site-packages\\pandas\\core\\series.py\u001b[0m in \u001b[0;36mwrapper\u001b[1;34m(self)\u001b[0m\n\u001b[0;32m    117\u001b[0m         raise TypeError(\"cannot convert the series to \"\n\u001b[1;32m--> 118\u001b[1;33m                         \"{0}\".format(str(converter)))\n\u001b[0m\u001b[0;32m    119\u001b[0m \u001b[1;33m\u001b[0m\u001b[0m\n",
            "\u001b[1;31mTypeError\u001b[0m: cannot convert the series to <class 'float'>",
            "\nDuring handling of the above exception, another exception occurred:\n",
            "\u001b[1;31mTypeError\u001b[0m                                 Traceback (most recent call last)",
            "\u001b[1;32m<ipython-input-15-1120a1541c99>\u001b[0m in \u001b[0;36m<module>\u001b[1;34m()\u001b[0m\n\u001b[0;32m     19\u001b[0m     \u001b[1;32mreturn\u001b[0m\u001b[1;33m\u001b[0m\u001b[0m\n\u001b[0;32m     20\u001b[0m \u001b[1;33m\u001b[0m\u001b[0m\n\u001b[1;32m---> 21\u001b[1;33m \u001b[0mprint_market_information\u001b[0m\u001b[1;33m(\u001b[0m\u001b[0mbenchmark\u001b[0m\u001b[1;33m)\u001b[0m\u001b[1;33m\u001b[0m\u001b[0m\n\u001b[0m",
            "\u001b[1;32m<ipython-input-15-1120a1541c99>\u001b[0m in \u001b[0;36mprint_market_information\u001b[1;34m(benchmark)\u001b[0m\n\u001b[0;32m      2\u001b[0m     \u001b[0mprint\u001b[0m\u001b[1;33m(\u001b[0m\u001b[1;34m\"RETURN BENCHMARK STATISTICS\"\u001b[0m\u001b[1;33m)\u001b[0m\u001b[1;33m\u001b[0m\u001b[0m\n\u001b[0;32m      3\u001b[0m     \u001b[0mprint\u001b[0m\u001b[1;33m(\u001b[0m\u001b[1;34m\"---------------------------------------------\"\u001b[0m\u001b[1;33m)\u001b[0m\u001b[1;33m\u001b[0m\u001b[0m\n\u001b[1;32m----> 4\u001b[1;33m     \u001b[0mprint\u001b[0m\u001b[1;33m(\u001b[0m\u001b[1;34m\"Mean of Daily  Log Returns %9.6f\"\u001b[0m \u001b[1;33m%\u001b[0m \u001b[0mnp\u001b[0m\u001b[1;33m.\u001b[0m\u001b[0mmean\u001b[0m\u001b[1;33m(\u001b[0m\u001b[0mbenchmark\u001b[0m\u001b[1;33m)\u001b[0m\u001b[1;33m)\u001b[0m\u001b[1;33m\u001b[0m\u001b[0m\n\u001b[0m\u001b[0;32m      5\u001b[0m     \u001b[0mprint\u001b[0m\u001b[1;33m(\u001b[0m\u001b[1;34m\"Std  of Daily  Log Returns %9.6f\"\u001b[0m \u001b[1;33m%\u001b[0m \u001b[0mnp\u001b[0m\u001b[1;33m.\u001b[0m\u001b[0mstd\u001b[0m\u001b[1;33m(\u001b[0m\u001b[0mbenchmark\u001b[0m\u001b[1;33m)\u001b[0m\u001b[1;33m)\u001b[0m\u001b[1;33m\u001b[0m\u001b[0m\n\u001b[0;32m      6\u001b[0m     \u001b[0mprint\u001b[0m\u001b[1;33m(\u001b[0m\u001b[1;34m\"Mean of Annua. Log Returns %9.6f\"\u001b[0m \u001b[1;33m%\u001b[0m \u001b[1;33m(\u001b[0m\u001b[0mnp\u001b[0m\u001b[1;33m.\u001b[0m\u001b[0mmean\u001b[0m\u001b[1;33m(\u001b[0m\u001b[0mbenchmark\u001b[0m\u001b[1;33m)\u001b[0m \u001b[1;33m*\u001b[0m \u001b[1;36m252\u001b[0m\u001b[1;33m)\u001b[0m\u001b[1;33m)\u001b[0m\u001b[1;33m\u001b[0m\u001b[0m\n",
            "\u001b[1;32m~\\Anaconda3\\envs\\py35\\lib\\site-packages\\numpy\\core\\fromnumeric.py\u001b[0m in \u001b[0;36mmean\u001b[1;34m(a, axis, dtype, out, keepdims)\u001b[0m\n\u001b[0;32m   2904\u001b[0m             \u001b[1;32mpass\u001b[0m\u001b[1;33m\u001b[0m\u001b[0m\n\u001b[0;32m   2905\u001b[0m         \u001b[1;32melse\u001b[0m\u001b[1;33m:\u001b[0m\u001b[1;33m\u001b[0m\u001b[0m\n\u001b[1;32m-> 2906\u001b[1;33m             \u001b[1;32mreturn\u001b[0m \u001b[0mmean\u001b[0m\u001b[1;33m(\u001b[0m\u001b[0maxis\u001b[0m\u001b[1;33m=\u001b[0m\u001b[0maxis\u001b[0m\u001b[1;33m,\u001b[0m \u001b[0mdtype\u001b[0m\u001b[1;33m=\u001b[0m\u001b[0mdtype\u001b[0m\u001b[1;33m,\u001b[0m \u001b[0mout\u001b[0m\u001b[1;33m=\u001b[0m\u001b[0mout\u001b[0m\u001b[1;33m,\u001b[0m \u001b[1;33m**\u001b[0m\u001b[0mkwargs\u001b[0m\u001b[1;33m)\u001b[0m\u001b[1;33m\u001b[0m\u001b[0m\n\u001b[0m\u001b[0;32m   2907\u001b[0m \u001b[1;33m\u001b[0m\u001b[0m\n\u001b[0;32m   2908\u001b[0m     return _methods._mean(a, axis=axis, dtype=dtype,\n",
            "\u001b[1;32m~\\Anaconda3\\envs\\py35\\lib\\site-packages\\pandas\\core\\generic.py\u001b[0m in \u001b[0;36mstat_func\u001b[1;34m(self, axis, skipna, level, numeric_only, **kwargs)\u001b[0m\n\u001b[0;32m   9611\u001b[0m                                       skipna=skipna)\n\u001b[0;32m   9612\u001b[0m         return self._reduce(f, name, axis=axis, skipna=skipna,\n\u001b[1;32m-> 9613\u001b[1;33m                             numeric_only=numeric_only)\n\u001b[0m\u001b[0;32m   9614\u001b[0m \u001b[1;33m\u001b[0m\u001b[0m\n\u001b[0;32m   9615\u001b[0m     \u001b[1;32mreturn\u001b[0m \u001b[0mset_function_name\u001b[0m\u001b[1;33m(\u001b[0m\u001b[0mstat_func\u001b[0m\u001b[1;33m,\u001b[0m \u001b[0mname\u001b[0m\u001b[1;33m,\u001b[0m \u001b[0mcls\u001b[0m\u001b[1;33m)\u001b[0m\u001b[1;33m\u001b[0m\u001b[0m\n",
            "\u001b[1;32m~\\Anaconda3\\envs\\py35\\lib\\site-packages\\pandas\\core\\series.py\u001b[0m in \u001b[0;36m_reduce\u001b[1;34m(self, op, name, axis, skipna, numeric_only, filter_type, **kwds)\u001b[0m\n\u001b[0;32m   3219\u001b[0m                                           'numeric_only.'.format(name))\n\u001b[0;32m   3220\u001b[0m             \u001b[1;32mwith\u001b[0m \u001b[0mnp\u001b[0m\u001b[1;33m.\u001b[0m\u001b[0merrstate\u001b[0m\u001b[1;33m(\u001b[0m\u001b[0mall\u001b[0m\u001b[1;33m=\u001b[0m\u001b[1;34m'ignore'\u001b[0m\u001b[1;33m)\u001b[0m\u001b[1;33m:\u001b[0m\u001b[1;33m\u001b[0m\u001b[0m\n\u001b[1;32m-> 3221\u001b[1;33m                 \u001b[1;32mreturn\u001b[0m \u001b[0mop\u001b[0m\u001b[1;33m(\u001b[0m\u001b[0mdelegate\u001b[0m\u001b[1;33m,\u001b[0m \u001b[0mskipna\u001b[0m\u001b[1;33m=\u001b[0m\u001b[0mskipna\u001b[0m\u001b[1;33m,\u001b[0m \u001b[1;33m**\u001b[0m\u001b[0mkwds\u001b[0m\u001b[1;33m)\u001b[0m\u001b[1;33m\u001b[0m\u001b[0m\n\u001b[0m\u001b[0;32m   3222\u001b[0m \u001b[1;33m\u001b[0m\u001b[0m\n\u001b[0;32m   3223\u001b[0m         return delegate._reduce(op=op, name=name, axis=axis, skipna=skipna,\n",
            "\u001b[1;32m~\\Anaconda3\\envs\\py35\\lib\\site-packages\\pandas\\core\\nanops.py\u001b[0m in \u001b[0;36m_f\u001b[1;34m(*args, **kwargs)\u001b[0m\n\u001b[0;32m     75\u001b[0m             \u001b[1;32mtry\u001b[0m\u001b[1;33m:\u001b[0m\u001b[1;33m\u001b[0m\u001b[0m\n\u001b[0;32m     76\u001b[0m                 \u001b[1;32mwith\u001b[0m \u001b[0mnp\u001b[0m\u001b[1;33m.\u001b[0m\u001b[0merrstate\u001b[0m\u001b[1;33m(\u001b[0m\u001b[0minvalid\u001b[0m\u001b[1;33m=\u001b[0m\u001b[1;34m'ignore'\u001b[0m\u001b[1;33m)\u001b[0m\u001b[1;33m:\u001b[0m\u001b[1;33m\u001b[0m\u001b[0m\n\u001b[1;32m---> 77\u001b[1;33m                     \u001b[1;32mreturn\u001b[0m \u001b[0mf\u001b[0m\u001b[1;33m(\u001b[0m\u001b[1;33m*\u001b[0m\u001b[0margs\u001b[0m\u001b[1;33m,\u001b[0m \u001b[1;33m**\u001b[0m\u001b[0mkwargs\u001b[0m\u001b[1;33m)\u001b[0m\u001b[1;33m\u001b[0m\u001b[0m\n\u001b[0m\u001b[0;32m     78\u001b[0m             \u001b[1;32mexcept\u001b[0m \u001b[0mValueError\u001b[0m \u001b[1;32mas\u001b[0m \u001b[0me\u001b[0m\u001b[1;33m:\u001b[0m\u001b[1;33m\u001b[0m\u001b[0m\n\u001b[0;32m     79\u001b[0m                 \u001b[1;31m# we want to transform an object array\u001b[0m\u001b[1;33m\u001b[0m\u001b[1;33m\u001b[0m\u001b[0m\n",
            "\u001b[1;32m~\\Anaconda3\\envs\\py35\\lib\\site-packages\\pandas\\core\\nanops.py\u001b[0m in \u001b[0;36mf\u001b[1;34m(values, axis, skipna, **kwds)\u001b[0m\n\u001b[0;32m    129\u001b[0m             \u001b[1;32mexcept\u001b[0m \u001b[0mException\u001b[0m\u001b[1;33m:\u001b[0m\u001b[1;33m\u001b[0m\u001b[0m\n\u001b[0;32m    130\u001b[0m                 \u001b[1;32mtry\u001b[0m\u001b[1;33m:\u001b[0m\u001b[1;33m\u001b[0m\u001b[0m\n\u001b[1;32m--> 131\u001b[1;33m                     \u001b[0mresult\u001b[0m \u001b[1;33m=\u001b[0m \u001b[0malt\u001b[0m\u001b[1;33m(\u001b[0m\u001b[0mvalues\u001b[0m\u001b[1;33m,\u001b[0m \u001b[0maxis\u001b[0m\u001b[1;33m=\u001b[0m\u001b[0maxis\u001b[0m\u001b[1;33m,\u001b[0m \u001b[0mskipna\u001b[0m\u001b[1;33m=\u001b[0m\u001b[0mskipna\u001b[0m\u001b[1;33m,\u001b[0m \u001b[1;33m**\u001b[0m\u001b[0mkwds\u001b[0m\u001b[1;33m)\u001b[0m\u001b[1;33m\u001b[0m\u001b[0m\n\u001b[0m\u001b[0;32m    132\u001b[0m                 \u001b[1;32mexcept\u001b[0m \u001b[0mValueError\u001b[0m \u001b[1;32mas\u001b[0m \u001b[0me\u001b[0m\u001b[1;33m:\u001b[0m\u001b[1;33m\u001b[0m\u001b[0m\n\u001b[0;32m    133\u001b[0m                     \u001b[1;31m# we want to transform an object array\u001b[0m\u001b[1;33m\u001b[0m\u001b[1;33m\u001b[0m\u001b[0m\n",
            "\u001b[1;32m~\\Anaconda3\\envs\\py35\\lib\\site-packages\\pandas\\core\\nanops.py\u001b[0m in \u001b[0;36mnanmean\u001b[1;34m(values, axis, skipna)\u001b[0m\n\u001b[0;32m    353\u001b[0m         \u001b[0mdtype_count\u001b[0m \u001b[1;33m=\u001b[0m \u001b[0mdtype\u001b[0m\u001b[1;33m\u001b[0m\u001b[0m\n\u001b[0;32m    354\u001b[0m     \u001b[0mcount\u001b[0m \u001b[1;33m=\u001b[0m \u001b[0m_get_counts\u001b[0m\u001b[1;33m(\u001b[0m\u001b[0mmask\u001b[0m\u001b[1;33m,\u001b[0m \u001b[0maxis\u001b[0m\u001b[1;33m,\u001b[0m \u001b[0mdtype\u001b[0m\u001b[1;33m=\u001b[0m\u001b[0mdtype_count\u001b[0m\u001b[1;33m)\u001b[0m\u001b[1;33m\u001b[0m\u001b[0m\n\u001b[1;32m--> 355\u001b[1;33m     \u001b[0mthe_sum\u001b[0m \u001b[1;33m=\u001b[0m \u001b[0m_ensure_numeric\u001b[0m\u001b[1;33m(\u001b[0m\u001b[0mvalues\u001b[0m\u001b[1;33m.\u001b[0m\u001b[0msum\u001b[0m\u001b[1;33m(\u001b[0m\u001b[0maxis\u001b[0m\u001b[1;33m,\u001b[0m \u001b[0mdtype\u001b[0m\u001b[1;33m=\u001b[0m\u001b[0mdtype_sum\u001b[0m\u001b[1;33m)\u001b[0m\u001b[1;33m)\u001b[0m\u001b[1;33m\u001b[0m\u001b[0m\n\u001b[0m\u001b[0;32m    356\u001b[0m \u001b[1;33m\u001b[0m\u001b[0m\n\u001b[0;32m    357\u001b[0m     \u001b[1;32mif\u001b[0m \u001b[0maxis\u001b[0m \u001b[1;32mis\u001b[0m \u001b[1;32mnot\u001b[0m \u001b[1;32mNone\u001b[0m \u001b[1;32mand\u001b[0m \u001b[0mgetattr\u001b[0m\u001b[1;33m(\u001b[0m\u001b[0mthe_sum\u001b[0m\u001b[1;33m,\u001b[0m \u001b[1;34m'ndim'\u001b[0m\u001b[1;33m,\u001b[0m \u001b[1;32mFalse\u001b[0m\u001b[1;33m)\u001b[0m\u001b[1;33m:\u001b[0m\u001b[1;33m\u001b[0m\u001b[0m\n",
            "\u001b[1;32m~\\Anaconda3\\envs\\py35\\lib\\site-packages\\pandas\\core\\nanops.py\u001b[0m in \u001b[0;36m_ensure_numeric\u001b[1;34m(x)\u001b[0m\n\u001b[0;32m    826\u001b[0m             \u001b[1;32mexcept\u001b[0m \u001b[0mException\u001b[0m\u001b[1;33m:\u001b[0m\u001b[1;33m\u001b[0m\u001b[0m\n\u001b[0;32m    827\u001b[0m                 raise TypeError('Could not convert {value!s} to numeric'\n\u001b[1;32m--> 828\u001b[1;33m                                 .format(value=x))\n\u001b[0m\u001b[0;32m    829\u001b[0m     \u001b[1;32mreturn\u001b[0m \u001b[0mx\u001b[0m\u001b[1;33m\u001b[0m\u001b[0m\n\u001b[0;32m    830\u001b[0m \u001b[1;33m\u001b[0m\u001b[0m\n",
            "\u001b[1;31mTypeError\u001b[0m: Could not convert Date\n2016-01-05    0.303967\n2016-01-06    0.289662\n2016-01-07    0.278285\n2016-01-08    0.291300\n2016-01-11    0.303266\n2016-01-12    0.310344\n2016-01-13    0.277336\n2016-01-14    0.318693\n2016-01-15    0.280810\n2016-01-19    0.303607\n2016-01-20    0.289461\n2016-01-21    0.307878\n2016-01-22    0.322792\n2016-01-25    0.287160\n2016-01-26    0.315919\n2016-01-27    0.291393\n2016-01-28    0.307485\n2016-01-29    0.326653\n2016-02-01    0.301915\n2016-02-02    0.284254\n2016-02-03    0.308271\n2016-02-04    0.303844\n2016-02-05    0.283226\n2016-02-08    0.288815\n2016-02-09    0.302330\n2016-02-10    0.301413\n2016-02-11    0.289268\n2016-02-12    0.322893\n2016-02-16    0.319155\n2016-02-17    0.318611\n                ...   \n2018-11-15    0.312713\n2018-11-16    0.304877\n2018-11-19    0.285362\n2018-11-20    0.283770\n2018-11-21    0.305684\n2018-11-23    0.295598\n2018-11-26    0.318420\n2018-11-27    0.305641\n2018-11-28    0.325301\n2018-11-29    0.300091\n2018-11-30    0.308372\n2018-12-03    0.315518\n2018-12-04    0.269874\n2018-12-06    0.300759\n2018-12-07    0.279040\n2018-12-10    0.304173\n2018-12-11    0.302503\n2018-12-12    0.307312\n2018-12-13    0.301937\n2018-12-14    0.283812\n2018-12-17    0.282658\n2018-12-18    0.301180\n2018-12-19    0.287300\n2018-12-20    0.285998\n2018-12-21    0.281787\n2018-12-24    0.275853\n2018-12-26    0.352801\n2018-12-27    0.309954\n2018-12-28    0.300986\n2018-12-31    0.311035\nName: Adj Close, Length: 753, dtype: float64 to numeric"
          ]
        }
      ],
      "execution_count": 15,
      "metadata": {
        "collapsed": false,
        "outputHidden": false,
        "inputHidden": false
      }
    },
    {
      "cell_type": "code",
      "source": [
        "def linreg(returns, benchmark):\n",
        "    X = benchmark\n",
        "    y = returns\n",
        "    beta, intercept, r_squared, p_value, std_err = stats.linregress(X, y)\n",
        "    alpha = np.mean(y) - beta * np.mean(X)\n",
        "    print(\"alpha \t= \", alpha)\n",
        "    print(\"beta  \t= \", beta)\n",
        "    print(\"r_squared\t= \", r_squared)\n",
        "    return beta, alpha, r_squared\n",
        "\n",
        "def print_market_stock(returns, benchmark):\n",
        "\ty = returns\n",
        "\tx = benchmark\n",
        "\tx = sm.add_constant(x)\n",
        "\tmodel = sm.OLS(y,x)\n",
        "\tresults = model.fit()\n",
        "\tprint(results.summary())\n",
        "\t\n",
        "# daily quotes and log returns\n",
        "def quotes_returns(returns):\n",
        "    ''' Plots quotes and returns. '''\n",
        "    plt.figure(figsize=(9, 6))\n",
        "    data['returns'].plot()\n",
        "    plt.title('Stock Daily Returns')\n",
        "    plt.ylabel('Daily log returns')\n",
        "    plt.grid(True)\n",
        "    plt.axis('tight')\n",
        "\n",
        "# histogram of annualized daily log returns\n",
        "def return_histogram(returns):\n",
        "    ''' Plots a histogram of the returns. '''\n",
        "    plt.figure(figsize=(9, 5))\n",
        "    x = np.linspace(min(returns), max(returns), 100)\n",
        "    plt.hist(np.array(returns), bins=50, normed=True)\n",
        "    y = dN(x, np.mean(returns), np.std(returns))\n",
        "    plt.plot(x, y, linewidth=2)\n",
        "    plt.xlabel('Log Returns')\n",
        "    plt.ylabel('Frequency/Probability')\n",
        "    plt.grid(True)\n",
        "\n",
        "# Q-Q plot of annualized daily log returns\n",
        "def return_qqplot(returns):\n",
        "    ''' Generates a Q-Q plot of the returns.'''\n",
        "    plt.figure(figsize=(9, 5))\n",
        "    sm.qqplot(returns, line='s')\n",
        "    plt.grid(True)\n",
        "    plt.title('Q-Q of Annualized Daily Log Returns')\n",
        "    plt.xlabel('Theoretical Quantiles')\n",
        "    plt.ylabel('Sample Quantiles')\n",
        "\n\n",
        "# realized volatility\n",
        "def realized_volatility(returns):\n",
        "    ''' Plots the realized volatility. '''\n",
        "    plt.figure(figsize=(9, 5))\n",
        "    data['rea_vol'].plot()\n",
        "    plt.title('Stock Volatility')\n",
        "    plt.ylabel('Realized Volatility')\n",
        "    plt.grid(True)\n",
        "\n",
        "# mean return, volatility and correlation (252 days moving = 1 year)\n",
        "def rolling_statistics(returns):\n",
        "    ''' Calculates and plots rolling statistics (mean, std, correlation). '''\n",
        "    plt.figure(figsize=(11, 8))\n",
        "    \n",
        "    plt.subplot(311)\n",
        "    mr = returns.rolling(252).mean() * 252\n",
        "    mr.plot()\n",
        "    plt.grid(True)\n",
        "    plt.ylabel('returns (252d)')\n",
        "    plt.axhline(mr.mean(), color='r', ls='dashed', lw=1.5)\n",
        "\n",
        "    plt.subplot(312)\n",
        "    vo = returns.rolling(252).std() * math.sqrt(252)\n",
        "    vo.plot()\n",
        "    plt.grid(True)\n",
        "    plt.ylabel('volatility (252d)')\n",
        "    plt.axhline(vo.mean(), color='r', ls='dashed', lw=1.5)\n",
        "    vx = plt.axis()\n",
        "\n",
        "    plt.subplot(313)\n",
        "    co = mr.rolling(252).corr(vo, 252)\n",
        "    co.plot()\n",
        "    plt.grid(True)\n",
        "    plt.ylabel('correlation (252d)')\n",
        "    cx = plt.axis()\n",
        "    plt.axis([vx[0], vx[1], cx[2], cx[3]])\n",
        "    plt.axhline(co.mean(), color='r', ls='dashed', lw=1.5)\n",
        "\t\n",
        "if __name__ == '__main__':\n",
        "    linreg(returns, benchmark)\n",
        "    print_market_stock(returns, benchmark)\n",
        "    quotes_returns(returns)\n",
        "    return_qqplot(returns)\n",
        "    realized_volatility(returns)\n",
        "    rolling_statistics(returns)"
      ],
      "outputs": [
        {
          "output_type": "error",
          "ename": "ValueError",
          "evalue": "all the input array dimensions except for the concatenation axis must match exactly",
          "traceback": [
            "\u001b[1;31m---------------------------------------------------------------------------\u001b[0m",
            "\u001b[1;31mValueError\u001b[0m                                Traceback (most recent call last)",
            "\u001b[1;32m<ipython-input-16-52771d9b8210>\u001b[0m in \u001b[0;36m<module>\u001b[1;34m()\u001b[0m\n\u001b[0;32m     89\u001b[0m \u001b[1;33m\u001b[0m\u001b[0m\n\u001b[0;32m     90\u001b[0m \u001b[1;32mif\u001b[0m \u001b[0m__name__\u001b[0m \u001b[1;33m==\u001b[0m \u001b[1;34m'__main__'\u001b[0m\u001b[1;33m:\u001b[0m\u001b[1;33m\u001b[0m\u001b[0m\n\u001b[1;32m---> 91\u001b[1;33m     \u001b[0mlinreg\u001b[0m\u001b[1;33m(\u001b[0m\u001b[0mreturns\u001b[0m\u001b[1;33m,\u001b[0m \u001b[0mbenchmark\u001b[0m\u001b[1;33m)\u001b[0m\u001b[1;33m\u001b[0m\u001b[0m\n\u001b[0m\u001b[0;32m     92\u001b[0m     \u001b[0mprint_market_stock\u001b[0m\u001b[1;33m(\u001b[0m\u001b[0mreturns\u001b[0m\u001b[1;33m,\u001b[0m \u001b[0mbenchmark\u001b[0m\u001b[1;33m)\u001b[0m\u001b[1;33m\u001b[0m\u001b[0m\n\u001b[0;32m     93\u001b[0m     \u001b[0mquotes_returns\u001b[0m\u001b[1;33m(\u001b[0m\u001b[0mreturns\u001b[0m\u001b[1;33m)\u001b[0m\u001b[1;33m\u001b[0m\u001b[0m\n",
            "\u001b[1;32m<ipython-input-16-52771d9b8210>\u001b[0m in \u001b[0;36mlinreg\u001b[1;34m(returns, benchmark)\u001b[0m\n\u001b[0;32m      2\u001b[0m     \u001b[0mX\u001b[0m \u001b[1;33m=\u001b[0m \u001b[0mbenchmark\u001b[0m\u001b[1;33m\u001b[0m\u001b[0m\n\u001b[0;32m      3\u001b[0m     \u001b[0my\u001b[0m \u001b[1;33m=\u001b[0m \u001b[0mreturns\u001b[0m\u001b[1;33m\u001b[0m\u001b[0m\n\u001b[1;32m----> 4\u001b[1;33m     \u001b[0mbeta\u001b[0m\u001b[1;33m,\u001b[0m \u001b[0mintercept\u001b[0m\u001b[1;33m,\u001b[0m \u001b[0mr_squared\u001b[0m\u001b[1;33m,\u001b[0m \u001b[0mp_value\u001b[0m\u001b[1;33m,\u001b[0m \u001b[0mstd_err\u001b[0m \u001b[1;33m=\u001b[0m \u001b[0mstats\u001b[0m\u001b[1;33m.\u001b[0m\u001b[0mlinregress\u001b[0m\u001b[1;33m(\u001b[0m\u001b[0mX\u001b[0m\u001b[1;33m,\u001b[0m \u001b[0my\u001b[0m\u001b[1;33m)\u001b[0m\u001b[1;33m\u001b[0m\u001b[0m\n\u001b[0m\u001b[0;32m      5\u001b[0m     \u001b[0malpha\u001b[0m \u001b[1;33m=\u001b[0m \u001b[0mnp\u001b[0m\u001b[1;33m.\u001b[0m\u001b[0mmean\u001b[0m\u001b[1;33m(\u001b[0m\u001b[0my\u001b[0m\u001b[1;33m)\u001b[0m \u001b[1;33m-\u001b[0m \u001b[0mbeta\u001b[0m \u001b[1;33m*\u001b[0m \u001b[0mnp\u001b[0m\u001b[1;33m.\u001b[0m\u001b[0mmean\u001b[0m\u001b[1;33m(\u001b[0m\u001b[0mX\u001b[0m\u001b[1;33m)\u001b[0m\u001b[1;33m\u001b[0m\u001b[0m\n\u001b[0;32m      6\u001b[0m     \u001b[0mprint\u001b[0m\u001b[1;33m(\u001b[0m\u001b[1;34m\"alpha        = \"\u001b[0m\u001b[1;33m,\u001b[0m \u001b[0malpha\u001b[0m\u001b[1;33m)\u001b[0m\u001b[1;33m\u001b[0m\u001b[0m\n",
            "\u001b[1;32m~\\Anaconda3\\envs\\py35\\lib\\site-packages\\scipy\\stats\\_stats_mstats_common.py\u001b[0m in \u001b[0;36mlinregress\u001b[1;34m(x, y)\u001b[0m\n\u001b[0;32m     91\u001b[0m \u001b[1;33m\u001b[0m\u001b[0m\n\u001b[0;32m     92\u001b[0m     \u001b[1;31m# average sum of squares:\u001b[0m\u001b[1;33m\u001b[0m\u001b[1;33m\u001b[0m\u001b[0m\n\u001b[1;32m---> 93\u001b[1;33m     \u001b[0mssxm\u001b[0m\u001b[1;33m,\u001b[0m \u001b[0mssxym\u001b[0m\u001b[1;33m,\u001b[0m \u001b[0mssyxm\u001b[0m\u001b[1;33m,\u001b[0m \u001b[0mssym\u001b[0m \u001b[1;33m=\u001b[0m \u001b[0mnp\u001b[0m\u001b[1;33m.\u001b[0m\u001b[0mcov\u001b[0m\u001b[1;33m(\u001b[0m\u001b[0mx\u001b[0m\u001b[1;33m,\u001b[0m \u001b[0my\u001b[0m\u001b[1;33m,\u001b[0m \u001b[0mbias\u001b[0m\u001b[1;33m=\u001b[0m\u001b[1;36m1\u001b[0m\u001b[1;33m)\u001b[0m\u001b[1;33m.\u001b[0m\u001b[0mflat\u001b[0m\u001b[1;33m\u001b[0m\u001b[0m\n\u001b[0m\u001b[0;32m     94\u001b[0m     \u001b[0mr_num\u001b[0m \u001b[1;33m=\u001b[0m \u001b[0mssxym\u001b[0m\u001b[1;33m\u001b[0m\u001b[0m\n\u001b[0;32m     95\u001b[0m     \u001b[0mr_den\u001b[0m \u001b[1;33m=\u001b[0m \u001b[0mnp\u001b[0m\u001b[1;33m.\u001b[0m\u001b[0msqrt\u001b[0m\u001b[1;33m(\u001b[0m\u001b[0mssxm\u001b[0m \u001b[1;33m*\u001b[0m \u001b[0mssym\u001b[0m\u001b[1;33m)\u001b[0m\u001b[1;33m\u001b[0m\u001b[0m\n",
            "\u001b[1;32m~\\Anaconda3\\envs\\py35\\lib\\site-packages\\numpy\\lib\\function_base.py\u001b[0m in \u001b[0;36mcov\u001b[1;34m(m, y, rowvar, bias, ddof, fweights, aweights)\u001b[0m\n\u001b[0;32m   3026\u001b[0m         \u001b[1;32mif\u001b[0m \u001b[1;32mnot\u001b[0m \u001b[0mrowvar\u001b[0m \u001b[1;32mand\u001b[0m \u001b[0my\u001b[0m\u001b[1;33m.\u001b[0m\u001b[0mshape\u001b[0m\u001b[1;33m[\u001b[0m\u001b[1;36m0\u001b[0m\u001b[1;33m]\u001b[0m \u001b[1;33m!=\u001b[0m \u001b[1;36m1\u001b[0m\u001b[1;33m:\u001b[0m\u001b[1;33m\u001b[0m\u001b[0m\n\u001b[0;32m   3027\u001b[0m             \u001b[0my\u001b[0m \u001b[1;33m=\u001b[0m \u001b[0my\u001b[0m\u001b[1;33m.\u001b[0m\u001b[0mT\u001b[0m\u001b[1;33m\u001b[0m\u001b[0m\n\u001b[1;32m-> 3028\u001b[1;33m         \u001b[0mX\u001b[0m \u001b[1;33m=\u001b[0m \u001b[0mnp\u001b[0m\u001b[1;33m.\u001b[0m\u001b[0mvstack\u001b[0m\u001b[1;33m(\u001b[0m\u001b[1;33m(\u001b[0m\u001b[0mX\u001b[0m\u001b[1;33m,\u001b[0m \u001b[0my\u001b[0m\u001b[1;33m)\u001b[0m\u001b[1;33m)\u001b[0m\u001b[1;33m\u001b[0m\u001b[0m\n\u001b[0m\u001b[0;32m   3029\u001b[0m \u001b[1;33m\u001b[0m\u001b[0m\n\u001b[0;32m   3030\u001b[0m     \u001b[1;32mif\u001b[0m \u001b[0mddof\u001b[0m \u001b[1;32mis\u001b[0m \u001b[1;32mNone\u001b[0m\u001b[1;33m:\u001b[0m\u001b[1;33m\u001b[0m\u001b[0m\n",
            "\u001b[1;32m~\\Anaconda3\\envs\\py35\\lib\\site-packages\\numpy\\core\\shape_base.py\u001b[0m in \u001b[0;36mvstack\u001b[1;34m(tup)\u001b[0m\n\u001b[0;32m    235\u001b[0m \u001b[1;33m\u001b[0m\u001b[0m\n\u001b[0;32m    236\u001b[0m     \"\"\"\n\u001b[1;32m--> 237\u001b[1;33m     \u001b[1;32mreturn\u001b[0m \u001b[0m_nx\u001b[0m\u001b[1;33m.\u001b[0m\u001b[0mconcatenate\u001b[0m\u001b[1;33m(\u001b[0m\u001b[1;33m[\u001b[0m\u001b[0matleast_2d\u001b[0m\u001b[1;33m(\u001b[0m\u001b[0m_m\u001b[0m\u001b[1;33m)\u001b[0m \u001b[1;32mfor\u001b[0m \u001b[0m_m\u001b[0m \u001b[1;32min\u001b[0m \u001b[0mtup\u001b[0m\u001b[1;33m]\u001b[0m\u001b[1;33m,\u001b[0m \u001b[1;36m0\u001b[0m\u001b[1;33m)\u001b[0m\u001b[1;33m\u001b[0m\u001b[0m\n\u001b[0m\u001b[0;32m    238\u001b[0m \u001b[1;33m\u001b[0m\u001b[0m\n\u001b[0;32m    239\u001b[0m \u001b[1;32mdef\u001b[0m \u001b[0mhstack\u001b[0m\u001b[1;33m(\u001b[0m\u001b[0mtup\u001b[0m\u001b[1;33m)\u001b[0m\u001b[1;33m:\u001b[0m\u001b[1;33m\u001b[0m\u001b[0m\n",
            "\u001b[1;31mValueError\u001b[0m: all the input array dimensions except for the concatenation axis must match exactly"
          ]
        }
      ],
      "execution_count": 16,
      "metadata": {
        "collapsed": false,
        "outputHidden": false,
        "inputHidden": false
      }
    }
  ],
  "metadata": {
    "kernel_info": {
      "name": "python3"
    },
    "language_info": {
      "mimetype": "text/x-python",
      "name": "python",
      "pygments_lexer": "ipython3",
      "nbconvert_exporter": "python",
      "codemirror_mode": {
        "version": 3,
        "name": "ipython"
      },
      "version": "3.5.5",
      "file_extension": ".py"
    },
    "kernelspec": {
      "name": "python3",
      "language": "python",
      "display_name": "Python 3"
    },
    "nteract": {
      "version": "0.12.2"
    }
  },
  "nbformat": 4,
  "nbformat_minor": 4
}