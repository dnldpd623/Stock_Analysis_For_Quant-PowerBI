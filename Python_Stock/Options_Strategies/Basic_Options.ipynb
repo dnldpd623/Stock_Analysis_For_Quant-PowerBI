{
  "cells": [
    {
      "cell_type": "markdown",
      "source": [
        "# Put Payoff"
      ],
      "metadata": {
        "nteract": {
          "transient": {
            "deleting": false
          }
        }
      }
    },
    {
      "cell_type": "code",
      "source": [
        "def put_payoff (sT, strike_price, premium):\n",
        "    pnl = np.where(sT<strike_price, strike_price - sT, 0)\n",
        "    return pnl - premium"
      ],
      "outputs": [],
      "execution_count": null,
      "metadata": {
        "collapsed": false,
        "jupyter": {
          "source_hidden": false,
          "outputs_hidden": false
        },
        "nteract": {
          "transient": {
            "deleting": false
          }
        }
      }
    },
    {
      "cell_type": "code",
      "source": [
        "# Infosys stock price\n",
        "spot_price = 900\n",
        "\n",
        "# Put strike price and cost\n",
        "strike_price = 900\n",
        "premium = 20\n",
        "\n",
        "# Stock price range at the expiration of the put\n",
        "# We have defined range for the stock price at expiry as +/- 10% from spot price\n",
        "# Syntax: numpy.arange(start price, stop price)\n",
        "sT = np.arange(0.9*spot_price,1.1*spot_price)"
      ],
      "outputs": [],
      "execution_count": null,
      "metadata": {
        "collapsed": false,
        "jupyter": {
          "source_hidden": false,
          "outputs_hidden": false
        },
        "nteract": {
          "transient": {
            "deleting": false
          }
        }
      }
    },
    {
      "cell_type": "code",
      "source": [
        "payoff_long_put = put_payoff(sT, strike_price, premium)\n",
        "# Plot the graph\n",
        "fig, ax = plt.subplots(figsize=(8,5))\n",
        "ax.spines['bottom'].set_position('zero')\n",
        "ax.plot(sT,payoff_long_put,label='Put option buyer payoff')\n",
        "plt.xlabel('Infosys Stock Price')\n",
        "plt.ylabel('Profit and loss')\n",
        "plt.legend()\n",
        "plt.show()"
      ],
      "outputs": [],
      "execution_count": null,
      "metadata": {
        "collapsed": false,
        "jupyter": {
          "source_hidden": false,
          "outputs_hidden": false
        },
        "nteract": {
          "transient": {
            "deleting": false
          }
        }
      }
    },
    {
      "cell_type": "code",
      "source": [
        "payoff_short_put = payoff_long_put * -1.0\n",
        "# Plot\n",
        "fig, ax = plt.subplots(figsize=(8,5))\n",
        "ax.spines['bottom'].set_position('zero')\n",
        "ax.plot(sT,payoff_short_put,label='Put option seller payoff',color='r')\n",
        "plt.xlabel('Infosys Stock Price')\n",
        "plt.ylabel('Profit and loss')\n",
        "plt.legend()\n",
        "plt.show()"
      ],
      "outputs": [],
      "execution_count": null,
      "metadata": {
        "collapsed": false,
        "jupyter": {
          "source_hidden": false,
          "outputs_hidden": false
        },
        "nteract": {
          "transient": {
            "deleting": false
          }
        }
      }
    },
    {
      "cell_type": "code",
      "source": [
        "# Import libraries\n",
        "import numpy as np\n",
        "import pandas as pd\n",
        "\n",
        "# Tata motors stock price \n",
        "spot_price = 430 \n",
        "\n",
        "# Stock price range at expiration of the call\n",
        "sT = np.arange(0.98*spot_price,1.03*spot_price)\n",
        "\n",
        "# Put strike and premium\n",
        "strike_price = 430 \n",
        "premium = 3\n",
        "\n",
        "# Put payoff\n",
        "# Type your code here\n",
        "payoff_put = np.where(sT < strike_price, strike_price - sT, 0) "
      ],
      "outputs": [],
      "execution_count": null,
      "metadata": {
        "collapsed": false,
        "jupyter": {
          "source_hidden": false,
          "outputs_hidden": false
        },
        "nteract": {
          "transient": {
            "deleting": false
          }
        }
      }
    },
    {
      "cell_type": "markdown",
      "source": [
        "# Call Payoff"
      ],
      "metadata": {
        "nteract": {
          "transient": {
            "deleting": false
          }
        }
      }
    },
    {
      "cell_type": "code",
      "source": [
        "def call_payoff(sT, strike_price, premium):\n",
        "    pnl = np.where(sT > strike_price, sT - strike_price, 0)    \n",
        "    return pnl - premium"
      ],
      "outputs": [],
      "execution_count": null,
      "metadata": {
        "collapsed": false,
        "jupyter": {
          "source_hidden": false,
          "outputs_hidden": false
        },
        "nteract": {
          "transient": {
            "deleting": false
          }
        }
      }
    },
    {
      "cell_type": "code",
      "source": [
        "payoff_long_call = call_payoff(sT, strike_price, premium)\n",
        "# Plot the graph\n",
        "fig, ax = plt.subplots(figsize=(8,5))\n",
        "ax.spines['bottom'].set_position('zero')\n",
        "ax.plot(sT,payoff_long_call,label='Call option buyer payoff')\n",
        "plt.xlabel('Infosys Stock Price')\n",
        "plt.ylabel('Profit and loss')\n",
        "plt.legend()\n",
        "plt.show()"
      ],
      "outputs": [],
      "execution_count": null,
      "metadata": {
        "collapsed": false,
        "jupyter": {
          "source_hidden": false,
          "outputs_hidden": false
        },
        "nteract": {
          "transient": {
            "deleting": false
          }
        }
      }
    },
    {
      "cell_type": "code",
      "source": [
        "payoff_short_call = payoff_long_call * -1.0\n",
        "# Plot\n",
        "fig, ax = plt.subplots(figsize=(8,5))\n",
        "ax.spines['bottom'].set_position('zero')\n",
        "ax.plot(sT,payoff_short_call,label='Short 940 Strike Call',color='r')\n",
        "plt.xlabel('Infosys Stock Price')\n",
        "plt.ylabel('Profit and loss')\n",
        "plt.legend()\n",
        "plt.show()"
      ],
      "outputs": [],
      "execution_count": null,
      "metadata": {
        "collapsed": false,
        "jupyter": {
          "source_hidden": false,
          "outputs_hidden": false
        },
        "nteract": {
          "transient": {
            "deleting": false
          }
        }
      }
    },
    {
      "cell_type": "code",
      "source": [
        "import numpy as np\n",
        "import pandas as pd\n",
        "# Tata motors stock price \n",
        "spot_price = 430 \n",
        "# Stock price range at expiration of the call\n",
        "sT = np.arange(0.98*spot_price,1.03*spot_price)\n",
        "# Call\n",
        "strike_price = 430 \n",
        "premium = 3\n",
        "# Type your code here\n",
        "payoff_call = np.where(sT > strike_price, sT - strike_price, 0) \n"
      ],
      "outputs": [],
      "execution_count": null,
      "metadata": {
        "collapsed": false,
        "jupyter": {
          "source_hidden": false,
          "outputs_hidden": false
        },
        "nteract": {
          "transient": {
            "deleting": false
          }
        }
      }
    },
    {
      "cell_type": "markdown",
      "source": [
        "# Bull call spread payoff"
      ],
      "metadata": {
        "nteract": {
          "transient": {
            "deleting": false
          }
        }
      }
    },
    {
      "cell_type": "code",
      "source": [
        "def call_payoff(sT, strike_price, premium):\n",
        "    return np.where(sT > strike_price, sT - strike_price, 0) - premium"
      ],
      "outputs": [],
      "execution_count": null,
      "metadata": {
        "collapsed": false,
        "jupyter": {
          "source_hidden": false,
          "outputs_hidden": false
        },
        "nteract": {
          "transient": {
            "deleting": false
          }
        }
      }
    },
    {
      "cell_type": "code",
      "source": [
        "# Infosys stock price \n",
        "spot_price = 900 \n",
        "\n",
        "# Long call\n",
        "strike_price_long_call = 920 \n",
        "premium_long_call = 15\n",
        "\n",
        "# Short call\n",
        "strike_price_short_call = 940 \n",
        "premium_short_call = 10\n",
        "\n",
        "# Stock price range at expiration of the call\n",
        "sT = np.arange(0.95*spot_price,1.1*spot_price,1) "
      ],
      "outputs": [],
      "execution_count": null,
      "metadata": {
        "collapsed": false,
        "jupyter": {
          "source_hidden": false,
          "outputs_hidden": false
        },
        "nteract": {
          "transient": {
            "deleting": false
          }
        }
      }
    },
    {
      "cell_type": "code",
      "source": [
        "payoff_long_call = call_payoff(sT, strike_price_long_call, premium_long_call)\n",
        "# Plot\n",
        "fig, ax = plt.subplots(figsize=(8,5))\n",
        "ax.spines['bottom'].set_position('zero')\n",
        "ax.plot(sT,payoff_long_call,label='Long 920 Strike Call',color='g')\n",
        "plt.xlabel('Infosys Stock Price')\n",
        "plt.ylabel('Profit and loss')\n",
        "plt.legend()\n",
        "plt.show()"
      ],
      "outputs": [],
      "execution_count": null,
      "metadata": {
        "collapsed": false,
        "jupyter": {
          "source_hidden": false,
          "outputs_hidden": false
        },
        "nteract": {
          "transient": {
            "deleting": false
          }
        }
      }
    },
    {
      "cell_type": "code",
      "source": [
        "payoff_short_call = call_payoff(sT, strike_price_short_call, premium_short_call) * -1.0\n",
        "# Plot\n",
        "fig, ax = plt.subplots(figsize=(8,5))\n",
        "ax.spines['bottom'].set_position('zero')\n",
        "ax.plot(sT,payoff_short_call,label='Short 940 Strike Call',color='r')\n",
        "plt.xlabel('Infosys Stock Price')\n",
        "plt.ylabel('Profit and loss')\n",
        "plt.legend()\n",
        "plt.show()"
      ],
      "outputs": [],
      "execution_count": null,
      "metadata": {
        "collapsed": false,
        "jupyter": {
          "source_hidden": false,
          "outputs_hidden": false
        },
        "nteract": {
          "transient": {
            "deleting": false
          }
        }
      }
    },
    {
      "cell_type": "code",
      "source": [
        "payoff_bull_call_spread = payoff_long_call + payoff_short_call\n",
        "\n",
        "print (\"Max Profit:\", max(payoff_bull_call_spread))\n",
        "print (\"Max Loss:\", min(payoff_bull_call_spread))\n",
        "\n",
        "# Plot\n",
        "fig, ax = plt.subplots(figsize=(8,5))\n",
        "ax.spines['bottom'].set_position('zero')\n",
        "ax.plot(sT,payoff_long_call,'--',label='Long 920 Strike Call',color='g')\n",
        "ax.plot(sT,payoff_short_call,'--',label='Short 940 Strike Call ',color='r')\n",
        "ax.plot(sT,payoff_bull_call_spread,label='Bull Call Spread')\n",
        "plt.xlabel('Infosys Stock Price')\n",
        "plt.ylabel('Profit and loss')\n",
        "plt.legend()\n",
        "plt.show()"
      ],
      "outputs": [],
      "execution_count": null,
      "metadata": {
        "collapsed": false,
        "jupyter": {
          "source_hidden": false,
          "outputs_hidden": false
        },
        "nteract": {
          "transient": {
            "deleting": false
          }
        }
      }
    },
    {
      "cell_type": "markdown",
      "source": [
        "# Bull Put Spread"
      ],
      "metadata": {
        "nteract": {
          "transient": {
            "deleting": false
          }
        }
      }
    },
    {
      "cell_type": "code",
      "source": [
        "def put_payoff(sT, strike_price, premium):\n",
        "    return np.where(sT < strike_price, strike_price - sT, 0) - premium "
      ],
      "outputs": [],
      "execution_count": null,
      "metadata": {
        "collapsed": false,
        "jupyter": {
          "source_hidden": false,
          "outputs_hidden": false
        },
        "nteract": {
          "transient": {
            "deleting": false
          }
        }
      }
    },
    {
      "cell_type": "code",
      "source": [
        "payoff_long_put = put_payoff(sT, strike_price_long_put, premium_long_put)\n",
        "# Plot\n",
        "fig, ax = plt.subplots(figsize=(8,5))\n",
        "ax.spines['bottom'].set_position('zero')\n",
        "ax.plot(sT,payoff_long_put,label='Long 880 Strike Put',color='g')\n",
        "plt.xlabel('Infosys Stock Price')\n",
        "plt.ylabel('Profit and loss')\n",
        "plt.legend()\n",
        "plt.show()# Infosys stock price \n",
        "spot_price = 900 \n",
        "\n",
        "# Long put\n",
        "strike_price_long_put = 880 \n",
        "premium_long_put = 15\n",
        "\n",
        "# Short put\n",
        "strike_price_short_put = 860 \n",
        "premium_short_put = 10\n",
        "\n",
        "# Stock price range at expiration of the put\n",
        "sT = np.arange(0.9*spot_price,1.05*spot_price,1) "
      ],
      "outputs": [],
      "execution_count": null,
      "metadata": {
        "collapsed": false,
        "jupyter": {
          "source_hidden": false,
          "outputs_hidden": false
        },
        "nteract": {
          "transient": {
            "deleting": false
          }
        }
      }
    },
    {
      "cell_type": "code",
      "source": [
        "payoff_short_put = put_payoff(sT, strike_price_short_put, premium_short_put) * -1.0\n",
        "# Plot\n",
        "fig, ax = plt.subplots(figsize=(8,5))\n",
        "ax.spines['bottom'].set_position('zero')\n",
        "ax.plot(sT,payoff_short_put,label='Short 860 Strike Put',color='r')\n",
        "plt.xlabel('Infosys Stock Price')\n",
        "plt.ylabel('Profit and loss')\n",
        "plt.legend()\n",
        "plt.show()"
      ],
      "outputs": [],
      "execution_count": null,
      "metadata": {
        "collapsed": false,
        "jupyter": {
          "source_hidden": false,
          "outputs_hidden": false
        },
        "nteract": {
          "transient": {
            "deleting": false
          }
        }
      }
    },
    {
      "cell_type": "code",
      "source": [
        "payoff_bear_put_spread = payoff_long_put + payoff_short_put\n",
        "\n",
        "print (\"Max Profit:\", max(payoff_bear_put_spread))\n",
        "print (\"Max Loss:\", min(payoff_bear_put_spread))\n",
        "\n",
        "# Plot\n",
        "fig, ax = plt.subplots(figsize=(8,5))\n",
        "ax.spines['bottom'].set_position('zero')\n",
        "ax.plot(sT,payoff_long_put,'--',label='Long 880 Strike Put',color='g')\n",
        "ax.plot(sT,payoff_short_put,'--',label='Short 860 Strike Put',color='r')\n",
        "ax.plot(sT,payoff_bear_put_spread,label='Bear Put Spread')\n",
        "plt.xlabel('Infosys Stock Price')\n",
        "plt.ylabel('Profit and loss')\n",
        "plt.legend()"
      ],
      "outputs": [],
      "execution_count": null,
      "metadata": {
        "collapsed": false,
        "jupyter": {
          "source_hidden": false,
          "outputs_hidden": false
        },
        "nteract": {
          "transient": {
            "deleting": false
          }
        }
      }
    },
    {
      "cell_type": "markdown",
      "source": [
        "# Maximum Profit"
      ],
      "metadata": {
        "nteract": {
          "transient": {
            "deleting": false
          }
        }
      }
    },
    {
      "cell_type": "code",
      "source": [
        "import numpy as np\n",
        "def call_payoff(sT, strike_price, premium):\n",
        "    return np.where(sT > strike_price, sT - strike_price, 0) - premium\n",
        "# Tata motors stock price \n",
        "spot_price = 430 \n",
        "# Stock price range at expiration of the call\n",
        "sT = np.arange(0.8*spot_price,1.2*spot_price)\n",
        "# Long call\n",
        "strike_price_long_call = 440 \n",
        "premium_long_call = 4.6\n",
        "# Long call payoff\n",
        "payoff_long_call = call_payoff(sT, strike_price_long_call, premium_long_call)\n",
        "# Short call\n",
        "strike_price_short_call = 450 \n",
        "premium_short_call = 2.3\n",
        "# Short call payoff\n",
        "payoff_short_call = call_payoff(sT, strike_price_short_call, premium_short_call) * -1.0\n",
        "# Type your code below\n",
        "payoff_spread = payoff_long_call + payoff_short_call\n",
        "max_profit = max(payoff_spread)\n",
        "print (max_profit)"
      ],
      "outputs": [],
      "execution_count": null,
      "metadata": {
        "collapsed": false,
        "jupyter": {
          "source_hidden": false,
          "outputs_hidden": false
        },
        "nteract": {
          "transient": {
            "deleting": false
          }
        }
      }
    },
    {
      "cell_type": "markdown",
      "source": [
        "# Maximum Loss"
      ],
      "metadata": {
        "nteract": {
          "transient": {
            "deleting": false
          }
        }
      }
    },
    {
      "cell_type": "code",
      "source": [
        "import numpy as np\n",
        "def call_payoff(sT, strike_price, premium):\n",
        "    return np.where(sT > strike_price, sT - strike_price, 0) - premium\n",
        "# Tata motors stock price \n",
        "spot_price = 430 \n",
        "# Stock price range at expiration of the call\n",
        "sT = np.arange(0.8*spot_price,1.2*spot_price)\n",
        "# Long call\n",
        "strike_price_long_call = 440 \n",
        "premium_long_call = 4.6\n",
        "# Long call payoff\n",
        "payoff_long_call = call_payoff(sT, strike_price_long_call, premium_long_call)\n",
        "# Short call\n",
        "strike_price_short_call = 450 \n",
        "premium_short_call = 2.3\n",
        "# Short call payoff\n",
        "payoff_short_call = call_payoff(sT, strike_price_short_call, premium_short_call) * -1.0\n",
        "# Strategy payoff\n",
        "payoff_spread = payoff_long_call + payoff_short_call\n",
        "# Type your code below\n",
        "max_loss = min(payoff_spread)\n",
        "print (max_loss)"
      ],
      "outputs": [],
      "execution_count": null,
      "metadata": {
        "collapsed": false,
        "jupyter": {
          "source_hidden": false,
          "outputs_hidden": false
        },
        "nteract": {
          "transient": {
            "deleting": false
          }
        }
      }
    },
    {
      "cell_type": "markdown",
      "source": [
        "# Protective Put Payoff"
      ],
      "metadata": {
        "nteract": {
          "transient": {
            "deleting": false
          }
        }
      }
    },
    {
      "cell_type": "code",
      "source": [
        "def put_payoff(sT, strike_price, premium):\n",
        "    return np.where(sT < strike_price, strike_price - sT, 0) - premium"
      ],
      "outputs": [],
      "execution_count": null,
      "metadata": {
        "collapsed": false,
        "jupyter": {
          "source_hidden": false,
          "outputs_hidden": false
        },
        "nteract": {
          "transient": {
            "deleting": false
          }
        }
      }
    },
    {
      "cell_type": "code",
      "source": [
        "# Auro Pharma stock price \n",
        "spot_price = 700 \n",
        "\n",
        "# Auro Pharma stock purchase price\n",
        "stock_purchase_price = 700 \n",
        "\n",
        "# Short put\n",
        "strike_price_long_put = 700\n",
        "premium_long_put = 20\n",
        "\n",
        "# Stock price range at expiration of the put\n",
        "sT = np.arange(0.9*spot_price,1.1*spot_price,1) "
      ],
      "outputs": [],
      "execution_count": null,
      "metadata": {
        "collapsed": false,
        "jupyter": {
          "source_hidden": false,
          "outputs_hidden": false
        },
        "nteract": {
          "transient": {
            "deleting": false
          }
        }
      }
    },
    {
      "cell_type": "code",
      "source": [
        "payoff_long_put = put_payoff(sT, strike_price_long_put, premium_long_put)\n",
        "# Plot\n",
        "fig, ax = plt.subplots(figsize=(8,5))\n",
        "ax.spines['bottom'].set_position('zero')\n",
        "ax.plot(sT,payoff_long_put,label='Long 700 Strike Put',color='r')\n",
        "plt.xlabel('Auro Pharma Stock Price')\n",
        "plt.ylabel('Profit and loss')\n",
        "plt.legend()\n",
        "plt.show()"
      ],
      "outputs": [],
      "execution_count": null,
      "metadata": {
        "collapsed": false,
        "jupyter": {
          "source_hidden": false,
          "outputs_hidden": false
        },
        "nteract": {
          "transient": {
            "deleting": false
          }
        }
      }
    },
    {
      "cell_type": "code",
      "source": [
        "payoff_auro_pharma_stock = sT - stock_purchase_price\n",
        "# Plot\n",
        "fig, ax = plt.subplots(figsize=(8,5))\n",
        "ax.spines['bottom'].set_position('zero')\n",
        "ax.plot(sT,payoff_auro_pharma_stock,label='Long Auro Pharma Stock',color='g')\n",
        "plt.xlabel('Auro Pharma Stock Price')\n",
        "plt.ylabel('Profit and loss')\n",
        "plt.legend()\n",
        "plt.show()"
      ],
      "outputs": [],
      "execution_count": null,
      "metadata": {
        "collapsed": false,
        "jupyter": {
          "source_hidden": false,
          "outputs_hidden": false
        },
        "nteract": {
          "transient": {
            "deleting": false
          }
        }
      }
    },
    {
      "cell_type": "code",
      "source": [
        "payoff_protective_put = payoff_auro_pharma_stock + payoff_long_put\n",
        "\n",
        "# Plot\n",
        "fig, ax = plt.subplots(figsize=(8,5))\n",
        "ax.spines['bottom'].set_position('zero')\n",
        "ax.plot(sT,payoff_auro_pharma_stock,'--',label='Long Auro Pharma Stock',color='g')\n",
        "ax.plot(sT,payoff_long_put,'--',label='Long 700 Strike Put',color='r')\n",
        "ax.plot(sT,payoff_protective_put,label='Protective Put')\n",
        "plt.xlabel('Auro Pharma Stock Price')\n",
        "plt.ylabel('Profit and loss')\n",
        "plt.legend()\n",
        "plt.show()"
      ],
      "outputs": [],
      "execution_count": null,
      "metadata": {
        "collapsed": false,
        "jupyter": {
          "source_hidden": false,
          "outputs_hidden": false
        },
        "nteract": {
          "transient": {
            "deleting": false
          }
        }
      }
    },
    {
      "cell_type": "markdown",
      "source": [
        "# Covered CAll Payoff"
      ],
      "metadata": {
        "nteract": {
          "transient": {
            "deleting": false
          }
        }
      }
    },
    {
      "cell_type": "code",
      "source": [
        "def call_payoff(sT, strike_price, premium):\n",
        "    return np.where(sT > strike_price, sT - strike_price, 0) - premium"
      ],
      "outputs": [],
      "execution_count": null,
      "metadata": {
        "collapsed": false,
        "jupyter": {
          "source_hidden": false,
          "outputs_hidden": false
        },
        "nteract": {
          "transient": {
            "deleting": false
          }
        }
      }
    },
    {
      "cell_type": "code",
      "source": [
        "# Wipro stock price \n",
        "spot_price = 300 \n",
        "\n",
        "# Short call\n",
        "strike_price_short_call = 300\n",
        "premium_short_call = 10\n",
        "\n",
        "# Stock price range at expiration of the call\n",
        "sT = np.arange(0.9*spot_price,1.1*spot_price,1) "
      ],
      "outputs": [],
      "execution_count": null,
      "metadata": {
        "collapsed": false,
        "jupyter": {
          "source_hidden": false,
          "outputs_hidden": false
        },
        "nteract": {
          "transient": {
            "deleting": false
          }
        }
      }
    },
    {
      "cell_type": "code",
      "source": [
        "payoff_wipro_stock = sT-300\n",
        "fig, ax = plt.subplots(figsize=(8,5))\n",
        "ax.spines['bottom'].set_position('zero')\n",
        "ax.plot(sT,payoff_wipro_stock,label='Wipro Stock Payoff',color='g')\n",
        "plt.xlabel('Wipro Stock Price')\n",
        "plt.ylabel('Profit and loss')\n",
        "plt.legend()\n",
        "plt.show()"
      ],
      "outputs": [],
      "execution_count": null,
      "metadata": {
        "collapsed": false,
        "jupyter": {
          "source_hidden": false,
          "outputs_hidden": false
        },
        "nteract": {
          "transient": {
            "deleting": false
          }
        }
      }
    },
    {
      "cell_type": "code",
      "source": [
        "payoff_short_call = call_payoff(sT, strike_price_short_call, premium_short_call) * -1.0\n",
        "# Plot\n",
        "fig, ax = plt.subplots(figsize=(8,5))\n",
        "ax.spines['bottom'].set_position('zero')\n",
        "ax.plot(sT,payoff_short_call,label='Short 300 Strike Call',color='r')\n",
        "plt.xlabel('Wipro Stock Price')\n",
        "plt.ylabel('Profit and loss')\n",
        "plt.legend()\n",
        "plt.show()"
      ],
      "outputs": [],
      "execution_count": null,
      "metadata": {
        "collapsed": false,
        "jupyter": {
          "source_hidden": false,
          "outputs_hidden": false
        },
        "nteract": {
          "transient": {
            "deleting": false
          }
        }
      }
    },
    {
      "cell_type": "code",
      "source": [
        "covered_call_payoff = payoff_wipro_stock + payoff_short_call\n",
        "# Plot\n",
        "fig, ax = plt.subplots(figsize=(8,5))\n",
        "ax.spines['bottom'].set_position('zero')\n",
        "ax.plot(sT,payoff_wipro_stock,'--',label='Long Wipro Stock',color='g')\n",
        "ax.plot(sT,payoff_short_call,'--',label='Short 300 Strike Call ',color='r')\n",
        "ax.plot(sT,covered_call_payoff,label='Covered Call')\n",
        "plt.xlabel('Wipro Stock Price')\n",
        "plt.ylabel('Profit and loss')\n",
        "plt.legend()\n",
        "plt.show()"
      ],
      "outputs": [],
      "execution_count": null,
      "metadata": {
        "collapsed": false,
        "jupyter": {
          "source_hidden": false,
          "outputs_hidden": false
        },
        "nteract": {
          "transient": {
            "deleting": false
          }
        }
      }
    }
  ],
  "metadata": {
    "kernel_info": {
      "name": "python3"
    },
    "language_info": {
      "name": "python3"
    },
    "kernelspec": {
      "argv": [
        "C:\\Users\\Tin Hang\\Anaconda3\\envs\\py35\\python.exe",
        "-m",
        "ipykernel_launcher",
        "-f",
        "{connection_file}"
      ],
      "display_name": "Python 3",
      "language": "python",
      "name": "python3"
    },
    "nteract": {
      "version": "0.22.0"
    }
  },
  "nbformat": 4,
  "nbformat_minor": 0
}