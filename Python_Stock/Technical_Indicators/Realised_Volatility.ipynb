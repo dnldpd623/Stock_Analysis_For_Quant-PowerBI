{
  "cells": [
    {
      "cell_type": "markdown",
      "source": [
        "# Realised Volatility Indicator"
      ],
      "metadata": {}
    },
    {
      "cell_type": "markdown",
      "source": [
        "https://www.investopedia.com/terms/h/historicalvolatility.asp"
      ],
      "metadata": {}
    },
    {
      "cell_type": "code",
      "source": [
        "import numpy as np\n",
        "import pandas as pd\n",
        "import matplotlib.pyplot as plt\n",
        "import math\n",
        "\n",
        "import warnings\n",
        "warnings.filterwarnings(\"ignore\")\n",
        "\n",
        "# fix_yahoo_finance is used to fetch data \n",
        "import fix_yahoo_finance as yf\n",
        "yf.pdr_override()"
      ],
      "outputs": [],
      "execution_count": 1,
      "metadata": {
        "collapsed": false,
        "outputHidden": false,
        "inputHidden": false
      }
    },
    {
      "cell_type": "code",
      "source": [
        "# input\n",
        "symbol = 'AAPL'\n",
        "start = '2018-08-01'\n",
        "end = '2019-01-01'\n",
        "\n",
        "# Read data \n",
        "df = yf.download(symbol,start,end)\n",
        "\n",
        "# View Columns\n",
        "df.head()"
      ],
      "outputs": [
        {
          "output_type": "stream",
          "name": "stdout",
          "text": [
            "[*********************100%***********************]  1 of 1 downloaded\n"
          ]
        },
        {
          "output_type": "execute_result",
          "execution_count": 2,
          "data": {
            "text/plain": [
              "                  Open        High         Low       Close   Adj Close  \\\n",
              "Date                                                                     \n",
              "2018-08-01  199.130005  201.759995  197.309998  201.500000  197.135651   \n",
              "2018-08-02  200.580002  208.380005  200.350006  207.389999  202.898071   \n",
              "2018-08-03  207.029999  208.740005  205.479996  207.990005  203.485062   \n",
              "2018-08-06  208.000000  209.250000  207.070007  209.070007  204.541672   \n",
              "2018-08-07  209.320007  209.500000  206.759995  207.110001  202.624130   \n",
              "\n",
              "              Volume  \n",
              "Date                  \n",
              "2018-08-01  67935700  \n",
              "2018-08-02  62404000  \n",
              "2018-08-03  33447400  \n",
              "2018-08-06  25425400  \n",
              "2018-08-07  25587400  "
            ],
            "text/html": [
              "<div>\n",
              "<style scoped>\n",
              "    .dataframe tbody tr th:only-of-type {\n",
              "        vertical-align: middle;\n",
              "    }\n",
              "\n",
              "    .dataframe tbody tr th {\n",
              "        vertical-align: top;\n",
              "    }\n",
              "\n",
              "    .dataframe thead th {\n",
              "        text-align: right;\n",
              "    }\n",
              "</style>\n",
              "<table border=\"1\" class=\"dataframe\">\n",
              "  <thead>\n",
              "    <tr style=\"text-align: right;\">\n",
              "      <th></th>\n",
              "      <th>Open</th>\n",
              "      <th>High</th>\n",
              "      <th>Low</th>\n",
              "      <th>Close</th>\n",
              "      <th>Adj Close</th>\n",
              "      <th>Volume</th>\n",
              "    </tr>\n",
              "    <tr>\n",
              "      <th>Date</th>\n",
              "      <th></th>\n",
              "      <th></th>\n",
              "      <th></th>\n",
              "      <th></th>\n",
              "      <th></th>\n",
              "      <th></th>\n",
              "    </tr>\n",
              "  </thead>\n",
              "  <tbody>\n",
              "    <tr>\n",
              "      <th>2018-08-01</th>\n",
              "      <td>199.130005</td>\n",
              "      <td>201.759995</td>\n",
              "      <td>197.309998</td>\n",
              "      <td>201.500000</td>\n",
              "      <td>197.135651</td>\n",
              "      <td>67935700</td>\n",
              "    </tr>\n",
              "    <tr>\n",
              "      <th>2018-08-02</th>\n",
              "      <td>200.580002</td>\n",
              "      <td>208.380005</td>\n",
              "      <td>200.350006</td>\n",
              "      <td>207.389999</td>\n",
              "      <td>202.898071</td>\n",
              "      <td>62404000</td>\n",
              "    </tr>\n",
              "    <tr>\n",
              "      <th>2018-08-03</th>\n",
              "      <td>207.029999</td>\n",
              "      <td>208.740005</td>\n",
              "      <td>205.479996</td>\n",
              "      <td>207.990005</td>\n",
              "      <td>203.485062</td>\n",
              "      <td>33447400</td>\n",
              "    </tr>\n",
              "    <tr>\n",
              "      <th>2018-08-06</th>\n",
              "      <td>208.000000</td>\n",
              "      <td>209.250000</td>\n",
              "      <td>207.070007</td>\n",
              "      <td>209.070007</td>\n",
              "      <td>204.541672</td>\n",
              "      <td>25425400</td>\n",
              "    </tr>\n",
              "    <tr>\n",
              "      <th>2018-08-07</th>\n",
              "      <td>209.320007</td>\n",
              "      <td>209.500000</td>\n",
              "      <td>206.759995</td>\n",
              "      <td>207.110001</td>\n",
              "      <td>202.624130</td>\n",
              "      <td>25587400</td>\n",
              "    </tr>\n",
              "  </tbody>\n",
              "</table>\n",
              "</div>"
            ]
          },
          "metadata": {}
        }
      ],
      "execution_count": 2,
      "metadata": {
        "collapsed": false,
        "outputHidden": false,
        "inputHidden": false
      }
    },
    {
      "cell_type": "code",
      "source": [
        "n = 20\n",
        "rets = df['Adj Close'].pct_change().dropna()\n",
        "std = rets.rolling(n).std()"
      ],
      "outputs": [],
      "execution_count": 3,
      "metadata": {
        "collapsed": false,
        "outputHidden": false,
        "inputHidden": false
      }
    },
    {
      "cell_type": "code",
      "source": [
        "historical_vol_annually = std*math.sqrt(252)  \n",
        "df['HV'] = 100*historical_vol_annually"
      ],
      "outputs": [],
      "execution_count": 4,
      "metadata": {
        "collapsed": false,
        "outputHidden": false,
        "inputHidden": false
      }
    },
    {
      "cell_type": "code",
      "source": [
        "df.head()"
      ],
      "outputs": [
        {
          "output_type": "execute_result",
          "execution_count": 5,
          "data": {
            "text/plain": [
              "                  Open        High         Low       Close   Adj Close  \\\n",
              "Date                                                                     \n",
              "2018-08-01  199.130005  201.759995  197.309998  201.500000  197.135651   \n",
              "2018-08-02  200.580002  208.380005  200.350006  207.389999  202.898071   \n",
              "2018-08-03  207.029999  208.740005  205.479996  207.990005  203.485062   \n",
              "2018-08-06  208.000000  209.250000  207.070007  209.070007  204.541672   \n",
              "2018-08-07  209.320007  209.500000  206.759995  207.110001  202.624130   \n",
              "\n",
              "              Volume  HV  \n",
              "Date                      \n",
              "2018-08-01  67935700 NaN  \n",
              "2018-08-02  62404000 NaN  \n",
              "2018-08-03  33447400 NaN  \n",
              "2018-08-06  25425400 NaN  \n",
              "2018-08-07  25587400 NaN  "
            ],
            "text/html": [
              "<div>\n",
              "<style scoped>\n",
              "    .dataframe tbody tr th:only-of-type {\n",
              "        vertical-align: middle;\n",
              "    }\n",
              "\n",
              "    .dataframe tbody tr th {\n",
              "        vertical-align: top;\n",
              "    }\n",
              "\n",
              "    .dataframe thead th {\n",
              "        text-align: right;\n",
              "    }\n",
              "</style>\n",
              "<table border=\"1\" class=\"dataframe\">\n",
              "  <thead>\n",
              "    <tr style=\"text-align: right;\">\n",
              "      <th></th>\n",
              "      <th>Open</th>\n",
              "      <th>High</th>\n",
              "      <th>Low</th>\n",
              "      <th>Close</th>\n",
              "      <th>Adj Close</th>\n",
              "      <th>Volume</th>\n",
              "      <th>HV</th>\n",
              "    </tr>\n",
              "    <tr>\n",
              "      <th>Date</th>\n",
              "      <th></th>\n",
              "      <th></th>\n",
              "      <th></th>\n",
              "      <th></th>\n",
              "      <th></th>\n",
              "      <th></th>\n",
              "      <th></th>\n",
              "    </tr>\n",
              "  </thead>\n",
              "  <tbody>\n",
              "    <tr>\n",
              "      <th>2018-08-01</th>\n",
              "      <td>199.130005</td>\n",
              "      <td>201.759995</td>\n",
              "      <td>197.309998</td>\n",
              "      <td>201.500000</td>\n",
              "      <td>197.135651</td>\n",
              "      <td>67935700</td>\n",
              "      <td>NaN</td>\n",
              "    </tr>\n",
              "    <tr>\n",
              "      <th>2018-08-02</th>\n",
              "      <td>200.580002</td>\n",
              "      <td>208.380005</td>\n",
              "      <td>200.350006</td>\n",
              "      <td>207.389999</td>\n",
              "      <td>202.898071</td>\n",
              "      <td>62404000</td>\n",
              "      <td>NaN</td>\n",
              "    </tr>\n",
              "    <tr>\n",
              "      <th>2018-08-03</th>\n",
              "      <td>207.029999</td>\n",
              "      <td>208.740005</td>\n",
              "      <td>205.479996</td>\n",
              "      <td>207.990005</td>\n",
              "      <td>203.485062</td>\n",
              "      <td>33447400</td>\n",
              "      <td>NaN</td>\n",
              "    </tr>\n",
              "    <tr>\n",
              "      <th>2018-08-06</th>\n",
              "      <td>208.000000</td>\n",
              "      <td>209.250000</td>\n",
              "      <td>207.070007</td>\n",
              "      <td>209.070007</td>\n",
              "      <td>204.541672</td>\n",
              "      <td>25425400</td>\n",
              "      <td>NaN</td>\n",
              "    </tr>\n",
              "    <tr>\n",
              "      <th>2018-08-07</th>\n",
              "      <td>209.320007</td>\n",
              "      <td>209.500000</td>\n",
              "      <td>206.759995</td>\n",
              "      <td>207.110001</td>\n",
              "      <td>202.624130</td>\n",
              "      <td>25587400</td>\n",
              "      <td>NaN</td>\n",
              "    </tr>\n",
              "  </tbody>\n",
              "</table>\n",
              "</div>"
            ]
          },
          "metadata": {}
        }
      ],
      "execution_count": 5,
      "metadata": {
        "collapsed": false,
        "outputHidden": false,
        "inputHidden": false
      }
    },
    {
      "cell_type": "code",
      "source": [
        "df.tail()"
      ],
      "outputs": [
        {
          "output_type": "execute_result",
          "execution_count": 6,
          "data": {
            "text/plain": [
              "                  Open        High         Low       Close   Adj Close  \\\n",
              "Date                                                                     \n",
              "2018-12-24  148.149994  151.550003  146.589996  146.830002  144.656540   \n",
              "2018-12-26  148.300003  157.229996  146.720001  157.169998  154.843475   \n",
              "2018-12-27  155.839996  156.770004  150.070007  156.149994  153.838562   \n",
              "2018-12-28  157.500000  158.520004  154.550003  156.229996  153.917389   \n",
              "2018-12-31  158.529999  159.360001  156.479996  157.740005  155.405045   \n",
              "\n",
              "              Volume         HV  \n",
              "Date                             \n",
              "2018-12-24  37169200  37.129966  \n",
              "2018-12-26  58582500  45.901041  \n",
              "2018-12-27  53117100  45.893158  \n",
              "2018-12-28  42291400  43.005838  \n",
              "2018-12-31  35003500  43.406725  "
            ],
            "text/html": [
              "<div>\n",
              "<style scoped>\n",
              "    .dataframe tbody tr th:only-of-type {\n",
              "        vertical-align: middle;\n",
              "    }\n",
              "\n",
              "    .dataframe tbody tr th {\n",
              "        vertical-align: top;\n",
              "    }\n",
              "\n",
              "    .dataframe thead th {\n",
              "        text-align: right;\n",
              "    }\n",
              "</style>\n",
              "<table border=\"1\" class=\"dataframe\">\n",
              "  <thead>\n",
              "    <tr style=\"text-align: right;\">\n",
              "      <th></th>\n",
              "      <th>Open</th>\n",
              "      <th>High</th>\n",
              "      <th>Low</th>\n",
              "      <th>Close</th>\n",
              "      <th>Adj Close</th>\n",
              "      <th>Volume</th>\n",
              "      <th>HV</th>\n",
              "    </tr>\n",
              "    <tr>\n",
              "      <th>Date</th>\n",
              "      <th></th>\n",
              "      <th></th>\n",
              "      <th></th>\n",
              "      <th></th>\n",
              "      <th></th>\n",
              "      <th></th>\n",
              "      <th></th>\n",
              "    </tr>\n",
              "  </thead>\n",
              "  <tbody>\n",
              "    <tr>\n",
              "      <th>2018-12-24</th>\n",
              "      <td>148.149994</td>\n",
              "      <td>151.550003</td>\n",
              "      <td>146.589996</td>\n",
              "      <td>146.830002</td>\n",
              "      <td>144.656540</td>\n",
              "      <td>37169200</td>\n",
              "      <td>37.129966</td>\n",
              "    </tr>\n",
              "    <tr>\n",
              "      <th>2018-12-26</th>\n",
              "      <td>148.300003</td>\n",
              "      <td>157.229996</td>\n",
              "      <td>146.720001</td>\n",
              "      <td>157.169998</td>\n",
              "      <td>154.843475</td>\n",
              "      <td>58582500</td>\n",
              "      <td>45.901041</td>\n",
              "    </tr>\n",
              "    <tr>\n",
              "      <th>2018-12-27</th>\n",
              "      <td>155.839996</td>\n",
              "      <td>156.770004</td>\n",
              "      <td>150.070007</td>\n",
              "      <td>156.149994</td>\n",
              "      <td>153.838562</td>\n",
              "      <td>53117100</td>\n",
              "      <td>45.893158</td>\n",
              "    </tr>\n",
              "    <tr>\n",
              "      <th>2018-12-28</th>\n",
              "      <td>157.500000</td>\n",
              "      <td>158.520004</td>\n",
              "      <td>154.550003</td>\n",
              "      <td>156.229996</td>\n",
              "      <td>153.917389</td>\n",
              "      <td>42291400</td>\n",
              "      <td>43.005838</td>\n",
              "    </tr>\n",
              "    <tr>\n",
              "      <th>2018-12-31</th>\n",
              "      <td>158.529999</td>\n",
              "      <td>159.360001</td>\n",
              "      <td>156.479996</td>\n",
              "      <td>157.740005</td>\n",
              "      <td>155.405045</td>\n",
              "      <td>35003500</td>\n",
              "      <td>43.406725</td>\n",
              "    </tr>\n",
              "  </tbody>\n",
              "</table>\n",
              "</div>"
            ]
          },
          "metadata": {}
        }
      ],
      "execution_count": 6,
      "metadata": {
        "collapsed": false,
        "outputHidden": false,
        "inputHidden": false
      }
    },
    {
      "cell_type": "code",
      "source": [
        "fig = plt.figure(figsize=(14,10))\n",
        "ax1 = plt.subplot(2, 1, 1)\n",
        "ax1.plot(df['Adj Close'])\n",
        "ax1.set_title('Stock '+ symbol +' Closing Price')\n",
        "ax1.set_ylabel('Price')\n",
        "\n",
        "ax2 = plt.subplot(2, 1, 2)\n",
        "ax2.plot(df['HV'], label='Historical Volatility')\n",
        "ax2.axhline(y=df['HV'].mean(), color='red')\n",
        "ax2.grid()\n",
        "ax2.set_ylabel('Historical Volatility')\n",
        "ax2.set_xlabel('Date')"
      ],
      "outputs": [
        {
          "output_type": "execute_result",
          "execution_count": 7,
          "data": {
            "text/plain": [
              "Text(0.5, 0, 'Date')"
            ]
          },
          "metadata": {}
        },
        {
          "output_type": "display_data",
          "data": {
            "image/png": "[encoded data removed]",
            "text/plain": [
              "<Figure size 1008x720 with 2 Axes>"
            ]
          },
          "metadata": {}
        }
      ],
      "execution_count": 7,
      "metadata": {
        "collapsed": false,
        "outputHidden": false,
        "inputHidden": false
      }
    },
    {
      "cell_type": "markdown",
      "source": [
        "## Candlestick with Historical Volatility"
      ],
      "metadata": {}
    },
    {
      "cell_type": "code",
      "source": [
        "from matplotlib import dates as mdates\n",
        "import datetime as dt\n",
        "\n",
        "dfc = df.copy()\n",
        "dfc['VolumePositive'] = dfc['Open'] < dfc['Adj Close']\n",
        "#dfc = dfc.dropna()\n",
        "dfc = dfc.reset_index()\n",
        "dfc['Date'] = pd.to_datetime(dfc['Date'])\n",
        "dfc['Date'] = dfc['Date'].apply(mdates.date2num)\n",
        "dfc.head()"
      ],
      "outputs": [
        {
          "output_type": "execute_result",
          "execution_count": 8,
          "data": {
            "text/plain": [
              "       Date        Open        High         Low       Close   Adj Close  \\\n",
              "0  736907.0  199.130005  201.759995  197.309998  201.500000  197.135651   \n",
              "1  736908.0  200.580002  208.380005  200.350006  207.389999  202.898071   \n",
              "2  736909.0  207.029999  208.740005  205.479996  207.990005  203.485062   \n",
              "3  736912.0  208.000000  209.250000  207.070007  209.070007  204.541672   \n",
              "4  736913.0  209.320007  209.500000  206.759995  207.110001  202.624130   \n",
              "\n",
              "     Volume  HV  VolumePositive  \n",
              "0  67935700 NaN           False  \n",
              "1  62404000 NaN            True  \n",
              "2  33447400 NaN           False  \n",
              "3  25425400 NaN           False  \n",
              "4  25587400 NaN           False  "
            ],
            "text/html": [
              "<div>\n",
              "<style scoped>\n",
              "    .dataframe tbody tr th:only-of-type {\n",
              "        vertical-align: middle;\n",
              "    }\n",
              "\n",
              "    .dataframe tbody tr th {\n",
              "        vertical-align: top;\n",
              "    }\n",
              "\n",
              "    .dataframe thead th {\n",
              "        text-align: right;\n",
              "    }\n",
              "</style>\n",
              "<table border=\"1\" class=\"dataframe\">\n",
              "  <thead>\n",
              "    <tr style=\"text-align: right;\">\n",
              "      <th></th>\n",
              "      <th>Date</th>\n",
              "      <th>Open</th>\n",
              "      <th>High</th>\n",
              "      <th>Low</th>\n",
              "      <th>Close</th>\n",
              "      <th>Adj Close</th>\n",
              "      <th>Volume</th>\n",
              "      <th>HV</th>\n",
              "      <th>VolumePositive</th>\n",
              "    </tr>\n",
              "  </thead>\n",
              "  <tbody>\n",
              "    <tr>\n",
              "      <th>0</th>\n",
              "      <td>736907.0</td>\n",
              "      <td>199.130005</td>\n",
              "      <td>201.759995</td>\n",
              "      <td>197.309998</td>\n",
              "      <td>201.500000</td>\n",
              "      <td>197.135651</td>\n",
              "      <td>67935700</td>\n",
              "      <td>NaN</td>\n",
              "      <td>False</td>\n",
              "    </tr>\n",
              "    <tr>\n",
              "      <th>1</th>\n",
              "      <td>736908.0</td>\n",
              "      <td>200.580002</td>\n",
              "      <td>208.380005</td>\n",
              "      <td>200.350006</td>\n",
              "      <td>207.389999</td>\n",
              "      <td>202.898071</td>\n",
              "      <td>62404000</td>\n",
              "      <td>NaN</td>\n",
              "      <td>True</td>\n",
              "    </tr>\n",
              "    <tr>\n",
              "      <th>2</th>\n",
              "      <td>736909.0</td>\n",
              "      <td>207.029999</td>\n",
              "      <td>208.740005</td>\n",
              "      <td>205.479996</td>\n",
              "      <td>207.990005</td>\n",
              "      <td>203.485062</td>\n",
              "      <td>33447400</td>\n",
              "      <td>NaN</td>\n",
              "      <td>False</td>\n",
              "    </tr>\n",
              "    <tr>\n",
              "      <th>3</th>\n",
              "      <td>736912.0</td>\n",
              "      <td>208.000000</td>\n",
              "      <td>209.250000</td>\n",
              "      <td>207.070007</td>\n",
              "      <td>209.070007</td>\n",
              "      <td>204.541672</td>\n",
              "      <td>25425400</td>\n",
              "      <td>NaN</td>\n",
              "      <td>False</td>\n",
              "    </tr>\n",
              "    <tr>\n",
              "      <th>4</th>\n",
              "      <td>736913.0</td>\n",
              "      <td>209.320007</td>\n",
              "      <td>209.500000</td>\n",
              "      <td>206.759995</td>\n",
              "      <td>207.110001</td>\n",
              "      <td>202.624130</td>\n",
              "      <td>25587400</td>\n",
              "      <td>NaN</td>\n",
              "      <td>False</td>\n",
              "    </tr>\n",
              "  </tbody>\n",
              "</table>\n",
              "</div>"
            ]
          },
          "metadata": {}
        }
      ],
      "execution_count": 8,
      "metadata": {
        "collapsed": false,
        "outputHidden": false,
        "inputHidden": false
      }
    },
    {
      "cell_type": "code",
      "source": [
        "from mpl_finance import candlestick_ohlc\n",
        "\n",
        "fig = plt.figure(figsize=(14,10))\n",
        "ax1 = plt.subplot(2, 1, 1)\n",
        "candlestick_ohlc(ax1,dfc.values, width=0.5, colorup='g', colordown='r', alpha=1.0)\n",
        "ax1.xaxis_date()\n",
        "ax1.xaxis.set_major_formatter(mdates.DateFormatter('%d-%m-%Y'))\n",
        "ax1.grid(True, which='both')\n",
        "ax1.minorticks_on()\n",
        "ax1v = ax1.twinx()\n",
        "colors = dfc.VolumePositive.map({True: 'g', False: 'r'})\n",
        "ax1v.bar(dfc.Date, dfc['Volume'], color=colors, alpha=0.4)\n",
        "ax1v.axes.yaxis.set_ticklabels([])\n",
        "ax1v.set_ylim(0, 3*df.Volume.max())\n",
        "ax1.set_title('Stock '+ symbol +' Closing Price')\n",
        "ax1.set_ylabel('Price')\n",
        "\n",
        "ax2 = plt.subplot(2, 1, 2)\n",
        "ax2.plot(df['HV'], label='Historical Volatility')\n",
        "ax2.axhline(y=df['HV'].mean(), color='red')\n",
        "ax2.grid()\n",
        "ax2.set_ylabel('Historical Volatility')\n",
        "ax2.set_xlabel('Date')"
      ],
      "outputs": [
        {
          "output_type": "execute_result",
          "execution_count": 9,
          "data": {
            "text/plain": [
              "Text(0.5, 0, 'Date')"
            ]
          },
          "metadata": {}
        },
        {
          "output_type": "display_data",
          "data": {
            "image/png": "[encoded data removed]",
            "text/plain": [
              "<Figure size 1008x720 with 3 Axes>"
            ]
          },
          "metadata": {}
        }
      ],
      "execution_count": 9,
      "metadata": {
        "collapsed": false,
        "outputHidden": false,
        "inputHidden": false
      }
    }
  ],
  "metadata": {
    "kernel_info": {
      "name": "python3"
    },
    "language_info": {
      "version": "3.5.5",
      "name": "python",
      "pygments_lexer": "ipython3",
      "codemirror_mode": {
        "version": 3,
        "name": "ipython"
      },
      "nbconvert_exporter": "python",
      "file_extension": ".py",
      "mimetype": "text/x-python"
    },
    "kernelspec": {
      "name": "python3",
      "language": "python",
      "display_name": "Python 3"
    },
    "nteract": {
      "version": "0.15.0"
    }
  },
  "nbformat": 4,
  "nbformat_minor": 4
}